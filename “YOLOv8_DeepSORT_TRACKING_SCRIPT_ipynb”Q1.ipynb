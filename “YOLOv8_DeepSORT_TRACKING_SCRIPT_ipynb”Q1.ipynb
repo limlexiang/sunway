{
  "cells": [
    {
      "cell_type": "markdown",
      "metadata": {
        "id": "Osp3607nFu9G"
      },
      "source": [
        "# Before Running the Script Please Make Sure you Select the Run Time as GPU"
      ]
    },
    {
      "cell_type": "markdown",
      "metadata": {
        "id": "tO1DFFdfFvI-"
      },
      "source": [
        "#**Clone the Github Repo**"
      ]
    },
    {
      "cell_type": "code",
      "execution_count": 1,
      "metadata": {
        "colab": {
          "base_uri": "https://localhost:8080/"
        },
        "id": "JTqOq3p0F0ul",
        "outputId": "20e20524-d644-439b-93f6-f9e0dedc63a6"
      },
      "outputs": [
        {
          "output_type": "stream",
          "name": "stdout",
          "text": [
            "Cloning into 'YOLOv8-DeepSORT-Object-Tracking'...\n",
            "remote: Enumerating objects: 403, done.\u001b[K\n",
            "remote: Counting objects: 100% (33/33), done.\u001b[K\n",
            "remote: Compressing objects: 100% (14/14), done.\u001b[K\n",
            "remote: Total 403 (delta 21), reused 19 (delta 19), pack-reused 370 (from 1)\u001b[K\n",
            "Receiving objects: 100% (403/403), 77.99 MiB | 11.68 MiB/s, done.\n",
            "Resolving deltas: 100% (206/206), done.\n"
          ]
        }
      ],
      "source": [
        "!git clone https://github.com/MuhammadMoinFaisal/YOLOv8-DeepSORT-Object-Tracking.git"
      ]
    },
    {
      "cell_type": "markdown",
      "metadata": {
        "id": "PuJXtLs9C-tj"
      },
      "source": [
        "##Setting the Current Directory"
      ]
    },
    {
      "cell_type": "code",
      "execution_count": 1,
      "metadata": {
        "colab": {
          "base_uri": "https://localhost:8080/"
        },
        "id": "_0Cy9Q3hC0CI",
        "outputId": "74b55e31-d175-4038-ff5c-a687dad31e8d"
      },
      "outputs": [
        {
          "output_type": "stream",
          "name": "stdout",
          "text": [
            "/content/YOLOv8-DeepSORT-Object-Tracking\n"
          ]
        }
      ],
      "source": [
        "%cd /content/YOLOv8-DeepSORT-Object-Tracking"
      ]
    },
    {
      "cell_type": "markdown",
      "metadata": {
        "id": "p4PQj_GXDMFb"
      },
      "source": [
        "##Install all the Dependencies"
      ]
    },
    {
      "cell_type": "code",
      "execution_count": 2,
      "metadata": {
        "colab": {
          "base_uri": "https://localhost:8080/"
        },
        "id": "hxERsChADIgc",
        "outputId": "5bb308ef-3eb1-4972-f0e4-77948f82113b"
      },
      "outputs": [
        {
          "output_type": "stream",
          "name": "stdout",
          "text": [
            "Obtaining file:///content/YOLOv8-DeepSORT-Object-Tracking\n",
            "  Preparing metadata (setup.py) ... \u001b[?25l\u001b[?25hdone\n",
            "Requirement already satisfied: hydra-core>=1.2.0 in /usr/local/lib/python3.10/dist-packages (from ultralytics==8.0.3) (1.3.2)\n",
            "Requirement already satisfied: matplotlib>=3.2.2 in /usr/local/lib/python3.10/dist-packages (from ultralytics==8.0.3) (3.7.1)\n",
            "Requirement already satisfied: numpy>=1.18.5 in /usr/local/lib/python3.10/dist-packages (from ultralytics==8.0.3) (1.26.4)\n",
            "Requirement already satisfied: opencv-python>=4.1.1 in /usr/local/lib/python3.10/dist-packages (from ultralytics==8.0.3) (4.10.0.84)\n",
            "Requirement already satisfied: Pillow>=7.1.2 in /usr/local/lib/python3.10/dist-packages (from ultralytics==8.0.3) (9.4.0)\n",
            "Requirement already satisfied: PyYAML>=5.3.1 in /usr/local/lib/python3.10/dist-packages (from ultralytics==8.0.3) (6.0.2)\n",
            "Requirement already satisfied: requests>=2.23.0 in /usr/local/lib/python3.10/dist-packages (from ultralytics==8.0.3) (2.32.3)\n",
            "Requirement already satisfied: scipy>=1.4.1 in /usr/local/lib/python3.10/dist-packages (from ultralytics==8.0.3) (1.13.1)\n",
            "Requirement already satisfied: torch>=1.7.0 in /usr/local/lib/python3.10/dist-packages (from ultralytics==8.0.3) (2.4.0+cu121)\n",
            "Requirement already satisfied: torchvision>=0.8.1 in /usr/local/lib/python3.10/dist-packages (from ultralytics==8.0.3) (0.19.0+cu121)\n",
            "Requirement already satisfied: tqdm>=4.64.0 in /usr/local/lib/python3.10/dist-packages (from ultralytics==8.0.3) (4.66.5)\n",
            "Requirement already satisfied: tensorboard>=2.4.1 in /usr/local/lib/python3.10/dist-packages (from ultralytics==8.0.3) (2.17.0)\n",
            "Requirement already satisfied: pandas>=1.1.4 in /usr/local/lib/python3.10/dist-packages (from ultralytics==8.0.3) (2.1.4)\n",
            "Requirement already satisfied: seaborn>=0.11.0 in /usr/local/lib/python3.10/dist-packages (from ultralytics==8.0.3) (0.13.1)\n",
            "Requirement already satisfied: ipython in /usr/local/lib/python3.10/dist-packages (from ultralytics==8.0.3) (7.34.0)\n",
            "Requirement already satisfied: psutil in /usr/local/lib/python3.10/dist-packages (from ultralytics==8.0.3) (5.9.5)\n",
            "Requirement already satisfied: thop>=0.1.1 in /usr/local/lib/python3.10/dist-packages (from ultralytics==8.0.3) (0.1.1.post2209072238)\n",
            "Requirement already satisfied: GitPython>=3.1.24 in /usr/local/lib/python3.10/dist-packages (from ultralytics==8.0.3) (3.1.43)\n",
            "Requirement already satisfied: check-manifest in /usr/local/lib/python3.10/dist-packages (from ultralytics==8.0.3) (0.49)\n",
            "Requirement already satisfied: pytest in /usr/local/lib/python3.10/dist-packages (from ultralytics==8.0.3) (7.4.4)\n",
            "Requirement already satisfied: pytest-cov in /usr/local/lib/python3.10/dist-packages (from ultralytics==8.0.3) (5.0.0)\n",
            "Requirement already satisfied: coverage in /usr/local/lib/python3.10/dist-packages (from ultralytics==8.0.3) (7.6.1)\n",
            "Requirement already satisfied: mkdocs in /usr/local/lib/python3.10/dist-packages (from ultralytics==8.0.3) (1.6.1)\n",
            "Requirement already satisfied: mkdocstrings[python] in /usr/local/lib/python3.10/dist-packages (from ultralytics==8.0.3) (0.25.2)\n",
            "Requirement already satisfied: mkdocs-material in /usr/local/lib/python3.10/dist-packages (from ultralytics==8.0.3) (9.5.34)\n",
            "Requirement already satisfied: gitdb<5,>=4.0.1 in /usr/local/lib/python3.10/dist-packages (from GitPython>=3.1.24->ultralytics==8.0.3) (4.0.11)\n",
            "Requirement already satisfied: omegaconf<2.4,>=2.2 in /usr/local/lib/python3.10/dist-packages (from hydra-core>=1.2.0->ultralytics==8.0.3) (2.3.0)\n",
            "Requirement already satisfied: antlr4-python3-runtime==4.9.* in /usr/local/lib/python3.10/dist-packages (from hydra-core>=1.2.0->ultralytics==8.0.3) (4.9.3)\n",
            "Requirement already satisfied: packaging in /usr/local/lib/python3.10/dist-packages (from hydra-core>=1.2.0->ultralytics==8.0.3) (24.1)\n",
            "Requirement already satisfied: contourpy>=1.0.1 in /usr/local/lib/python3.10/dist-packages (from matplotlib>=3.2.2->ultralytics==8.0.3) (1.2.1)\n",
            "Requirement already satisfied: cycler>=0.10 in /usr/local/lib/python3.10/dist-packages (from matplotlib>=3.2.2->ultralytics==8.0.3) (0.12.1)\n",
            "Requirement already satisfied: fonttools>=4.22.0 in /usr/local/lib/python3.10/dist-packages (from matplotlib>=3.2.2->ultralytics==8.0.3) (4.53.1)\n",
            "Requirement already satisfied: kiwisolver>=1.0.1 in /usr/local/lib/python3.10/dist-packages (from matplotlib>=3.2.2->ultralytics==8.0.3) (1.4.5)\n",
            "Requirement already satisfied: pyparsing>=2.3.1 in /usr/local/lib/python3.10/dist-packages (from matplotlib>=3.2.2->ultralytics==8.0.3) (3.1.4)\n",
            "Requirement already satisfied: python-dateutil>=2.7 in /usr/local/lib/python3.10/dist-packages (from matplotlib>=3.2.2->ultralytics==8.0.3) (2.8.2)\n",
            "Requirement already satisfied: pytz>=2020.1 in /usr/local/lib/python3.10/dist-packages (from pandas>=1.1.4->ultralytics==8.0.3) (2024.1)\n",
            "Requirement already satisfied: tzdata>=2022.1 in /usr/local/lib/python3.10/dist-packages (from pandas>=1.1.4->ultralytics==8.0.3) (2024.1)\n",
            "Requirement already satisfied: charset-normalizer<4,>=2 in /usr/local/lib/python3.10/dist-packages (from requests>=2.23.0->ultralytics==8.0.3) (3.3.2)\n",
            "Requirement already satisfied: idna<4,>=2.5 in /usr/local/lib/python3.10/dist-packages (from requests>=2.23.0->ultralytics==8.0.3) (3.8)\n",
            "Requirement already satisfied: urllib3<3,>=1.21.1 in /usr/local/lib/python3.10/dist-packages (from requests>=2.23.0->ultralytics==8.0.3) (2.0.7)\n",
            "Requirement already satisfied: certifi>=2017.4.17 in /usr/local/lib/python3.10/dist-packages (from requests>=2.23.0->ultralytics==8.0.3) (2024.7.4)\n",
            "Requirement already satisfied: absl-py>=0.4 in /usr/local/lib/python3.10/dist-packages (from tensorboard>=2.4.1->ultralytics==8.0.3) (1.4.0)\n",
            "Requirement already satisfied: grpcio>=1.48.2 in /usr/local/lib/python3.10/dist-packages (from tensorboard>=2.4.1->ultralytics==8.0.3) (1.64.1)\n",
            "Requirement already satisfied: markdown>=2.6.8 in /usr/local/lib/python3.10/dist-packages (from tensorboard>=2.4.1->ultralytics==8.0.3) (3.7)\n",
            "Requirement already satisfied: protobuf!=4.24.0,<5.0.0,>=3.19.6 in /usr/local/lib/python3.10/dist-packages (from tensorboard>=2.4.1->ultralytics==8.0.3) (3.20.3)\n",
            "Requirement already satisfied: setuptools>=41.0.0 in /usr/local/lib/python3.10/dist-packages (from tensorboard>=2.4.1->ultralytics==8.0.3) (71.0.4)\n",
            "Requirement already satisfied: six>1.9 in /usr/local/lib/python3.10/dist-packages (from tensorboard>=2.4.1->ultralytics==8.0.3) (1.16.0)\n",
            "Requirement already satisfied: tensorboard-data-server<0.8.0,>=0.7.0 in /usr/local/lib/python3.10/dist-packages (from tensorboard>=2.4.1->ultralytics==8.0.3) (0.7.2)\n",
            "Requirement already satisfied: werkzeug>=1.0.1 in /usr/local/lib/python3.10/dist-packages (from tensorboard>=2.4.1->ultralytics==8.0.3) (3.0.4)\n",
            "Requirement already satisfied: filelock in /usr/local/lib/python3.10/dist-packages (from torch>=1.7.0->ultralytics==8.0.3) (3.15.4)\n",
            "Requirement already satisfied: typing-extensions>=4.8.0 in /usr/local/lib/python3.10/dist-packages (from torch>=1.7.0->ultralytics==8.0.3) (4.12.2)\n",
            "Requirement already satisfied: sympy in /usr/local/lib/python3.10/dist-packages (from torch>=1.7.0->ultralytics==8.0.3) (1.13.2)\n",
            "Requirement already satisfied: networkx in /usr/local/lib/python3.10/dist-packages (from torch>=1.7.0->ultralytics==8.0.3) (3.3)\n",
            "Requirement already satisfied: jinja2 in /usr/local/lib/python3.10/dist-packages (from torch>=1.7.0->ultralytics==8.0.3) (3.1.4)\n",
            "Requirement already satisfied: fsspec in /usr/local/lib/python3.10/dist-packages (from torch>=1.7.0->ultralytics==8.0.3) (2024.6.1)\n",
            "Requirement already satisfied: build>=0.1 in /usr/local/lib/python3.10/dist-packages (from check-manifest->ultralytics==8.0.3) (1.2.1)\n",
            "Requirement already satisfied: tomli in /usr/local/lib/python3.10/dist-packages (from check-manifest->ultralytics==8.0.3) (2.0.1)\n",
            "Requirement already satisfied: jedi>=0.16 in /usr/local/lib/python3.10/dist-packages (from ipython->ultralytics==8.0.3) (0.19.1)\n",
            "Requirement already satisfied: decorator in /usr/local/lib/python3.10/dist-packages (from ipython->ultralytics==8.0.3) (4.4.2)\n",
            "Requirement already satisfied: pickleshare in /usr/local/lib/python3.10/dist-packages (from ipython->ultralytics==8.0.3) (0.7.5)\n",
            "Requirement already satisfied: traitlets>=4.2 in /usr/local/lib/python3.10/dist-packages (from ipython->ultralytics==8.0.3) (5.7.1)\n",
            "Requirement already satisfied: prompt-toolkit!=3.0.0,!=3.0.1,<3.1.0,>=2.0.0 in /usr/local/lib/python3.10/dist-packages (from ipython->ultralytics==8.0.3) (3.0.47)\n",
            "Requirement already satisfied: pygments in /usr/local/lib/python3.10/dist-packages (from ipython->ultralytics==8.0.3) (2.16.1)\n",
            "Requirement already satisfied: backcall in /usr/local/lib/python3.10/dist-packages (from ipython->ultralytics==8.0.3) (0.2.0)\n",
            "Requirement already satisfied: matplotlib-inline in /usr/local/lib/python3.10/dist-packages (from ipython->ultralytics==8.0.3) (0.1.7)\n",
            "Requirement already satisfied: pexpect>4.3 in /usr/local/lib/python3.10/dist-packages (from ipython->ultralytics==8.0.3) (4.9.0)\n",
            "Requirement already satisfied: click>=7.0 in /usr/local/lib/python3.10/dist-packages (from mkdocs->ultralytics==8.0.3) (8.1.7)\n",
            "Requirement already satisfied: ghp-import>=1.0 in /usr/local/lib/python3.10/dist-packages (from mkdocs->ultralytics==8.0.3) (2.1.0)\n",
            "Requirement already satisfied: markupsafe>=2.0.1 in /usr/local/lib/python3.10/dist-packages (from mkdocs->ultralytics==8.0.3) (2.1.5)\n",
            "Requirement already satisfied: mergedeep>=1.3.4 in /usr/local/lib/python3.10/dist-packages (from mkdocs->ultralytics==8.0.3) (1.3.4)\n",
            "Requirement already satisfied: mkdocs-get-deps>=0.2.0 in /usr/local/lib/python3.10/dist-packages (from mkdocs->ultralytics==8.0.3) (0.2.0)\n",
            "Requirement already satisfied: pathspec>=0.11.1 in /usr/local/lib/python3.10/dist-packages (from mkdocs->ultralytics==8.0.3) (0.12.1)\n",
            "Requirement already satisfied: pyyaml-env-tag>=0.1 in /usr/local/lib/python3.10/dist-packages (from mkdocs->ultralytics==8.0.3) (0.1)\n",
            "Requirement already satisfied: watchdog>=2.0 in /usr/local/lib/python3.10/dist-packages (from mkdocs->ultralytics==8.0.3) (5.0.0)\n",
            "Requirement already satisfied: babel~=2.10 in /usr/local/lib/python3.10/dist-packages (from mkdocs-material->ultralytics==8.0.3) (2.16.0)\n",
            "Requirement already satisfied: colorama~=0.4 in /usr/local/lib/python3.10/dist-packages (from mkdocs-material->ultralytics==8.0.3) (0.4.6)\n",
            "Requirement already satisfied: mkdocs-material-extensions~=1.3 in /usr/local/lib/python3.10/dist-packages (from mkdocs-material->ultralytics==8.0.3) (1.3.1)\n",
            "Requirement already satisfied: paginate~=0.5 in /usr/local/lib/python3.10/dist-packages (from mkdocs-material->ultralytics==8.0.3) (0.5.7)\n",
            "Requirement already satisfied: pymdown-extensions~=10.2 in /usr/local/lib/python3.10/dist-packages (from mkdocs-material->ultralytics==8.0.3) (10.9)\n",
            "Requirement already satisfied: regex>=2022.4 in /usr/local/lib/python3.10/dist-packages (from mkdocs-material->ultralytics==8.0.3) (2024.5.15)\n",
            "Requirement already satisfied: mkdocs-autorefs>=0.3.1 in /usr/local/lib/python3.10/dist-packages (from mkdocstrings[python]->ultralytics==8.0.3) (1.2.0)\n",
            "Requirement already satisfied: platformdirs>=2.2.0 in /usr/local/lib/python3.10/dist-packages (from mkdocstrings[python]->ultralytics==8.0.3) (4.2.2)\n",
            "Requirement already satisfied: mkdocstrings-python>=0.5.2 in /usr/local/lib/python3.10/dist-packages (from mkdocstrings[python]->ultralytics==8.0.3) (1.10.9)\n",
            "Requirement already satisfied: iniconfig in /usr/local/lib/python3.10/dist-packages (from pytest->ultralytics==8.0.3) (2.0.0)\n",
            "Requirement already satisfied: pluggy<2.0,>=0.12 in /usr/local/lib/python3.10/dist-packages (from pytest->ultralytics==8.0.3) (1.5.0)\n",
            "Requirement already satisfied: exceptiongroup>=1.0.0rc8 in /usr/local/lib/python3.10/dist-packages (from pytest->ultralytics==8.0.3) (1.2.2)\n",
            "Requirement already satisfied: pyproject_hooks in /usr/local/lib/python3.10/dist-packages (from build>=0.1->check-manifest->ultralytics==8.0.3) (1.1.0)\n",
            "Requirement already satisfied: smmap<6,>=3.0.1 in /usr/local/lib/python3.10/dist-packages (from gitdb<5,>=4.0.1->GitPython>=3.1.24->ultralytics==8.0.3) (5.0.1)\n",
            "Requirement already satisfied: parso<0.9.0,>=0.8.3 in /usr/local/lib/python3.10/dist-packages (from jedi>=0.16->ipython->ultralytics==8.0.3) (0.8.4)\n",
            "Requirement already satisfied: griffe>=0.49 in /usr/local/lib/python3.10/dist-packages (from mkdocstrings-python>=0.5.2->mkdocstrings[python]->ultralytics==8.0.3) (1.2.0)\n",
            "Requirement already satisfied: ptyprocess>=0.5 in /usr/local/lib/python3.10/dist-packages (from pexpect>4.3->ipython->ultralytics==8.0.3) (0.7.0)\n",
            "Requirement already satisfied: wcwidth in /usr/local/lib/python3.10/dist-packages (from prompt-toolkit!=3.0.0,!=3.0.1,<3.1.0,>=2.0.0->ipython->ultralytics==8.0.3) (0.2.13)\n",
            "Requirement already satisfied: mpmath<1.4,>=1.1.0 in /usr/local/lib/python3.10/dist-packages (from sympy->torch>=1.7.0->ultralytics==8.0.3) (1.3.0)\n",
            "Installing collected packages: ultralytics\n",
            "  Attempting uninstall: ultralytics\n",
            "    Found existing installation: ultralytics 8.0.3\n",
            "    Uninstalling ultralytics-8.0.3:\n",
            "      Successfully uninstalled ultralytics-8.0.3\n",
            "  Running setup.py develop for ultralytics\n",
            "Successfully installed ultralytics-8.0.3\n"
          ]
        }
      ],
      "source": [
        "!pip install -e '.[dev]'"
      ]
    },
    {
      "cell_type": "markdown",
      "metadata": {
        "id": "i4-h2jwWDXU6"
      },
      "source": [
        "##Moving to the Required Directory"
      ]
    },
    {
      "cell_type": "code",
      "execution_count": 1,
      "metadata": {
        "id": "sWXs2RdKDnqB",
        "outputId": "c733cce6-da08-4e5f-d0f6-fe1f554739ac",
        "colab": {
          "base_uri": "https://localhost:8080/"
        }
      },
      "outputs": [
        {
          "output_type": "stream",
          "name": "stdout",
          "text": [
            "/content/YOLOv8-DeepSORT-Object-Tracking/ultralytics/yolo/v8/detect\n"
          ]
        }
      ],
      "source": [
        "%cd /content/YOLOv8-DeepSORT-Object-Tracking/ultralytics/yolo/v8/detect"
      ]
    },
    {
      "cell_type": "markdown",
      "metadata": {
        "id": "oEUtstJcDqz0"
      },
      "source": [
        "##To implement the DeepSORT tracking, downloading the required files"
      ]
    },
    {
      "cell_type": "code",
      "execution_count": 4,
      "metadata": {
        "id": "5FuD6jDfDSoU",
        "outputId": "d86b5615-77c1-421b-c6f1-518b928f95d9",
        "colab": {
          "base_uri": "https://localhost:8080/"
        }
      },
      "outputs": [
        {
          "output_type": "stream",
          "name": "stdout",
          "text": [
            "Downloading...\n",
            "From: https://drive.google.com/uc?id=11ZSZcG-bcbueXZC3rN08CM0qqX3eiHxf&confirm=t\n",
            "To: /content/YOLOv8-DeepSORT-Object-Tracking/ultralytics/yolo/v8/detect/deep_sort_pytorch.zip\n",
            "\r  0% 0.00/43.1M [00:00<?, ?B/s]\r 66% 28.3M/43.1M [00:00<00:00, 279MB/s]\r100% 43.1M/43.1M [00:00<00:00, 304MB/s]\n"
          ]
        }
      ],
      "source": [
        "!gdown \"https://drive.google.com/uc?id=11ZSZcG-bcbueXZC3rN08CM0qqX3eiHxf&confirm=t\"\n"
      ]
    },
    {
      "cell_type": "markdown",
      "metadata": {
        "id": "qFpopDEED61b"
      },
      "source": [
        "##Unzipping the DeepSORT Files"
      ]
    },
    {
      "cell_type": "code",
      "execution_count": 5,
      "metadata": {
        "id": "uLmlRpFdD1su",
        "outputId": "d70167a1-738a-4502-eed2-ede3ca80232f",
        "colab": {
          "base_uri": "https://localhost:8080/"
        }
      },
      "outputs": [
        {
          "output_type": "stream",
          "name": "stdout",
          "text": [
            "Archive:  deep_sort_pytorch.zip\n",
            "  inflating: deep_sort_pytorch/.gitignore  \n",
            "   creating: deep_sort_pytorch/configs/\n",
            "  inflating: deep_sort_pytorch/configs/deep_sort.yaml  \n",
            "   creating: deep_sort_pytorch/deep_sort/\n",
            "  inflating: deep_sort_pytorch/deep_sort/__init__.py  \n",
            "   creating: deep_sort_pytorch/deep_sort/__pycache__/\n",
            "  inflating: deep_sort_pytorch/deep_sort/__pycache__/__init__.cpython-310.pyc  \n",
            "  inflating: deep_sort_pytorch/deep_sort/__pycache__/__init__.cpython-37.pyc  \n",
            "  inflating: deep_sort_pytorch/deep_sort/__pycache__/__init__.cpython-38.pyc  \n",
            "  inflating: deep_sort_pytorch/deep_sort/__pycache__/deep_sort.cpython-310.pyc  \n",
            "  inflating: deep_sort_pytorch/deep_sort/__pycache__/deep_sort.cpython-37.pyc  \n",
            "  inflating: deep_sort_pytorch/deep_sort/__pycache__/deep_sort.cpython-38.pyc  \n",
            "   creating: deep_sort_pytorch/deep_sort/deep/\n",
            " extracting: deep_sort_pytorch/deep_sort/deep/__init__.py  \n",
            "   creating: deep_sort_pytorch/deep_sort/deep/__pycache__/\n",
            "  inflating: deep_sort_pytorch/deep_sort/deep/__pycache__/__init__.cpython-310.pyc  \n",
            "  inflating: deep_sort_pytorch/deep_sort/deep/__pycache__/__init__.cpython-37.pyc  \n",
            "  inflating: deep_sort_pytorch/deep_sort/deep/__pycache__/__init__.cpython-38.pyc  \n",
            "  inflating: deep_sort_pytorch/deep_sort/deep/__pycache__/feature_extractor.cpython-310.pyc  \n",
            "  inflating: deep_sort_pytorch/deep_sort/deep/__pycache__/feature_extractor.cpython-37.pyc  \n",
            "  inflating: deep_sort_pytorch/deep_sort/deep/__pycache__/feature_extractor.cpython-38.pyc  \n",
            "  inflating: deep_sort_pytorch/deep_sort/deep/__pycache__/model.cpython-310.pyc  \n",
            "  inflating: deep_sort_pytorch/deep_sort/deep/__pycache__/model.cpython-37.pyc  \n",
            "  inflating: deep_sort_pytorch/deep_sort/deep/__pycache__/model.cpython-38.pyc  \n",
            "   creating: deep_sort_pytorch/deep_sort/deep/checkpoint/\n",
            " extracting: deep_sort_pytorch/deep_sort/deep/checkpoint/.gitkeep  \n",
            "  inflating: deep_sort_pytorch/deep_sort/deep/checkpoint/ckpt.t7  \n",
            "  inflating: deep_sort_pytorch/deep_sort/deep/evaluate.py  \n",
            "  inflating: deep_sort_pytorch/deep_sort/deep/feature_extractor.py  \n",
            "  inflating: deep_sort_pytorch/deep_sort/deep/model.py  \n",
            "  inflating: deep_sort_pytorch/deep_sort/deep/original_model.py  \n",
            "  inflating: deep_sort_pytorch/deep_sort/deep/test.py  \n",
            "  inflating: deep_sort_pytorch/deep_sort/deep/train.jpg  \n",
            "  inflating: deep_sort_pytorch/deep_sort/deep/train.py  \n",
            "  inflating: deep_sort_pytorch/deep_sort/deep_sort.py  \n",
            "  inflating: deep_sort_pytorch/deep_sort/README.md  \n",
            "   creating: deep_sort_pytorch/deep_sort/sort - Copy/\n",
            " extracting: deep_sort_pytorch/deep_sort/sort - Copy/__init__.py  \n",
            "   creating: deep_sort_pytorch/deep_sort/sort - Copy/__pycache__/\n",
            "  inflating: deep_sort_pytorch/deep_sort/sort - Copy/__pycache__/__init__.cpython-37.pyc  \n",
            "  inflating: deep_sort_pytorch/deep_sort/sort - Copy/__pycache__/__init__.cpython-38.pyc  \n",
            "  inflating: deep_sort_pytorch/deep_sort/sort - Copy/__pycache__/detection.cpython-37.pyc  \n",
            "  inflating: deep_sort_pytorch/deep_sort/sort - Copy/__pycache__/detection.cpython-38.pyc  \n",
            "  inflating: deep_sort_pytorch/deep_sort/sort - Copy/__pycache__/iou_matching.cpython-37.pyc  \n",
            "  inflating: deep_sort_pytorch/deep_sort/sort - Copy/__pycache__/iou_matching.cpython-38.pyc  \n",
            "  inflating: deep_sort_pytorch/deep_sort/sort - Copy/__pycache__/kalman_filter.cpython-37.pyc  \n",
            "  inflating: deep_sort_pytorch/deep_sort/sort - Copy/__pycache__/kalman_filter.cpython-38.pyc  \n",
            "  inflating: deep_sort_pytorch/deep_sort/sort - Copy/__pycache__/linear_assignment.cpython-37.pyc  \n",
            "  inflating: deep_sort_pytorch/deep_sort/sort - Copy/__pycache__/linear_assignment.cpython-38.pyc  \n",
            "  inflating: deep_sort_pytorch/deep_sort/sort - Copy/__pycache__/nn_matching.cpython-37.pyc  \n",
            "  inflating: deep_sort_pytorch/deep_sort/sort - Copy/__pycache__/nn_matching.cpython-38.pyc  \n",
            "  inflating: deep_sort_pytorch/deep_sort/sort - Copy/__pycache__/track.cpython-37.pyc  \n",
            "  inflating: deep_sort_pytorch/deep_sort/sort - Copy/__pycache__/track.cpython-38.pyc  \n",
            "  inflating: deep_sort_pytorch/deep_sort/sort - Copy/__pycache__/tracker.cpython-37.pyc  \n",
            "  inflating: deep_sort_pytorch/deep_sort/sort - Copy/__pycache__/tracker.cpython-38.pyc  \n",
            "  inflating: deep_sort_pytorch/deep_sort/sort - Copy/iou_matching.py  \n",
            "  inflating: deep_sort_pytorch/deep_sort/sort - Copy/kalman_filter.py  \n",
            "  inflating: deep_sort_pytorch/deep_sort/sort - Copy/linear_assignment.py  \n",
            "  inflating: deep_sort_pytorch/deep_sort/sort - Copy/nn_matching.py  \n",
            "  inflating: deep_sort_pytorch/deep_sort/sort - Copy/preprocessing.py  \n",
            "   creating: deep_sort_pytorch/deep_sort/sort/\n",
            " extracting: deep_sort_pytorch/deep_sort/sort/__init__.py  \n",
            "   creating: deep_sort_pytorch/deep_sort/sort/__pycache__/\n",
            "  inflating: deep_sort_pytorch/deep_sort/sort/__pycache__/__init__.cpython-310.pyc  \n",
            "  inflating: deep_sort_pytorch/deep_sort/sort/__pycache__/__init__.cpython-37.pyc  \n",
            "  inflating: deep_sort_pytorch/deep_sort/sort/__pycache__/__init__.cpython-38.pyc  \n",
            "  inflating: deep_sort_pytorch/deep_sort/sort/__pycache__/detection.cpython-310.pyc  \n",
            "  inflating: deep_sort_pytorch/deep_sort/sort/__pycache__/detection.cpython-37.pyc  \n",
            "  inflating: deep_sort_pytorch/deep_sort/sort/__pycache__/detection.cpython-38.pyc  \n",
            "  inflating: deep_sort_pytorch/deep_sort/sort/__pycache__/iou_matching.cpython-310.pyc  \n",
            "  inflating: deep_sort_pytorch/deep_sort/sort/__pycache__/iou_matching.cpython-37.pyc  \n",
            "  inflating: deep_sort_pytorch/deep_sort/sort/__pycache__/iou_matching.cpython-38.pyc  \n",
            "  inflating: deep_sort_pytorch/deep_sort/sort/__pycache__/kalman_filter.cpython-310.pyc  \n",
            "  inflating: deep_sort_pytorch/deep_sort/sort/__pycache__/kalman_filter.cpython-37.pyc  \n",
            "  inflating: deep_sort_pytorch/deep_sort/sort/__pycache__/kalman_filter.cpython-38.pyc  \n",
            "  inflating: deep_sort_pytorch/deep_sort/sort/__pycache__/linear_assignment.cpython-310.pyc  \n",
            "  inflating: deep_sort_pytorch/deep_sort/sort/__pycache__/linear_assignment.cpython-37.pyc  \n",
            "  inflating: deep_sort_pytorch/deep_sort/sort/__pycache__/linear_assignment.cpython-38.pyc  \n",
            "  inflating: deep_sort_pytorch/deep_sort/sort/__pycache__/nn_matching.cpython-310.pyc  \n",
            "  inflating: deep_sort_pytorch/deep_sort/sort/__pycache__/nn_matching.cpython-37.pyc  \n",
            "  inflating: deep_sort_pytorch/deep_sort/sort/__pycache__/nn_matching.cpython-38.pyc  \n",
            "  inflating: deep_sort_pytorch/deep_sort/sort/__pycache__/track.cpython-310.pyc  \n",
            "  inflating: deep_sort_pytorch/deep_sort/sort/__pycache__/track.cpython-37.pyc  \n",
            "  inflating: deep_sort_pytorch/deep_sort/sort/__pycache__/track.cpython-38.pyc  \n",
            "  inflating: deep_sort_pytorch/deep_sort/sort/__pycache__/tracker.cpython-310.pyc  \n",
            "  inflating: deep_sort_pytorch/deep_sort/sort/__pycache__/tracker.cpython-37.pyc  \n",
            "  inflating: deep_sort_pytorch/deep_sort/sort/__pycache__/tracker.cpython-38.pyc  \n",
            "  inflating: deep_sort_pytorch/deep_sort/sort/detection.py  \n",
            "  inflating: deep_sort_pytorch/deep_sort/sort/iou_matching.py  \n",
            "  inflating: deep_sort_pytorch/deep_sort/sort/kalman_filter.py  \n",
            "  inflating: deep_sort_pytorch/deep_sort/sort/linear_assignment.py  \n",
            "  inflating: deep_sort_pytorch/deep_sort/sort/nn_matching.py  \n",
            "  inflating: deep_sort_pytorch/deep_sort/sort/preprocessing.py  \n",
            "  inflating: deep_sort_pytorch/deep_sort/sort/track.py  \n",
            "  inflating: deep_sort_pytorch/deep_sort/sort/tracker.py  \n",
            "  inflating: deep_sort_pytorch/LICENSE  \n",
            "  inflating: deep_sort_pytorch/README.md  \n",
            "   creating: deep_sort_pytorch/utils/\n",
            " extracting: deep_sort_pytorch/utils/__init__.py  \n",
            "   creating: deep_sort_pytorch/utils/__pycache__/\n",
            "  inflating: deep_sort_pytorch/utils/__pycache__/__init__.cpython-310.pyc  \n",
            "  inflating: deep_sort_pytorch/utils/__pycache__/__init__.cpython-37.pyc  \n",
            "  inflating: deep_sort_pytorch/utils/__pycache__/__init__.cpython-38.pyc  \n",
            "  inflating: deep_sort_pytorch/utils/__pycache__/parser.cpython-310.pyc  \n",
            "  inflating: deep_sort_pytorch/utils/__pycache__/parser.cpython-37.pyc  \n",
            "  inflating: deep_sort_pytorch/utils/__pycache__/parser.cpython-38.pyc  \n",
            "  inflating: deep_sort_pytorch/utils/asserts.py  \n",
            "  inflating: deep_sort_pytorch/utils/draw.py  \n",
            "  inflating: deep_sort_pytorch/utils/evaluation.py  \n",
            "  inflating: deep_sort_pytorch/utils/io.py  \n",
            "  inflating: deep_sort_pytorch/utils/json_logger.py  \n",
            "  inflating: deep_sort_pytorch/utils/log.py  \n",
            "  inflating: deep_sort_pytorch/utils/parser.py  \n",
            "  inflating: deep_sort_pytorch/utils/tools.py  \n"
          ]
        }
      ],
      "source": [
        "!unzip 'deep_sort_pytorch.zip'"
      ]
    },
    {
      "cell_type": "markdown",
      "metadata": {
        "id": "PUb4g3erEArb"
      },
      "source": [
        "##Download a Sample Video for Testing from Google Drive"
      ]
    },
    {
      "cell_type": "markdown",
      "metadata": {
        "id": "xrxzHtFkElir"
      },
      "source": [
        "##Lets Run the Script"
      ]
    },
    {
      "cell_type": "code",
      "source": [
        "import os\n",
        "os.environ['HYDRA_FULL_ERROR'] = '1'\n"
      ],
      "metadata": {
        "id": "WctwfQ16MrGJ"
      },
      "execution_count": 6,
      "outputs": []
    },
    {
      "cell_type": "code",
      "source": [
        "pip install numpy==1.23.5"
      ],
      "metadata": {
        "id": "fmf4DTrfMwGv",
        "outputId": "326d0f1f-f9c7-4363-8570-448274654932",
        "colab": {
          "base_uri": "https://localhost:8080/"
        }
      },
      "execution_count": 2,
      "outputs": [
        {
          "output_type": "stream",
          "name": "stdout",
          "text": [
            "Requirement already satisfied: numpy==1.23.5 in /usr/local/lib/python3.10/dist-packages (1.23.5)\n"
          ]
        }
      ]
    },
    {
      "cell_type": "markdown",
      "metadata": {
        "id": "ehYcKyOxE48T"
      },
      "source": [
        "##Downloading the Script Files for Tracking and Vehicle Counting from Google Drive\n",
        "\n",
        "\n"
      ]
    },
    {
      "cell_type": "code",
      "execution_count": 3,
      "metadata": {
        "colab": {
          "base_uri": "https://localhost:8080/"
        },
        "id": "gZ7oe-QwE8X5",
        "outputId": "282785bb-d65b-4c1f-e878-76d977d07675"
      },
      "outputs": [
        {
          "output_type": "stream",
          "name": "stdout",
          "text": [
            "Downloading...\n",
            "From: https://drive.google.com/uc?id=1lkUUUCdk2uXIxIbsX8Y_8cphrC91oIjq&confirm=t\n",
            "To: /content/YOLOv8-DeepSORT-Object-Tracking/ultralytics/yolo/v8/detect/predict.py\n",
            "\r  0% 0.00/12.2k [00:00<?, ?B/s]\r100% 12.2k/12.2k [00:00<00:00, 39.0MB/s]\n"
          ]
        }
      ],
      "source": [
        "!gdown \"https://drive.google.com/uc?id=1lkUUUCdk2uXIxIbsX8Y_8cphrC91oIjq&confirm=t\"\n"
      ]
    },
    {
      "cell_type": "markdown",
      "metadata": {
        "id": "V5GVy8nWFVL8"
      },
      "source": [
        "##Download the Demo Video"
      ]
    },
    {
      "cell_type": "code",
      "execution_count": 4,
      "metadata": {
        "colab": {
          "base_uri": "https://localhost:8080/"
        },
        "id": "9GNKoidnFZL0",
        "outputId": "c69535eb-5c24-4893-e5de-b1b477413570"
      },
      "outputs": [
        {
          "output_type": "stream",
          "name": "stdout",
          "text": [
            "Downloading...\n",
            "From: https://drive.google.com/uc?id=1rjBn8Fl1E_9d0EMVtL24S9aNQOJAveR5&confirm=t\n",
            "To: /content/YOLOv8-DeepSORT-Object-Tracking/ultralytics/yolo/v8/detect/test3.mp4\n",
            "\r  0% 0.00/4.98M [00:00<?, ?B/s]\r100% 4.98M/4.98M [00:00<00:00, 83.6MB/s]\n"
          ]
        }
      ],
      "source": [
        "!gdown \"https://drive.google.com/uc?id=1rjBn8Fl1E_9d0EMVtL24S9aNQOJAveR5&confirm=t\"\n"
      ]
    },
    {
      "cell_type": "code",
      "execution_count": 6,
      "metadata": {
        "id": "Rg-rIBOwFGd8",
        "outputId": "9da6e700-cb69-4b61-904b-d7e52258081e",
        "colab": {
          "base_uri": "https://localhost:8080/"
        }
      },
      "outputs": [
        {
          "output_type": "stream",
          "name": "stdout",
          "text": [
            "/content/YOLOv8-DeepSORT-Object-Tracking/ultralytics/yolo/v8/detect/deep_sort_pytorch/deep_sort/deep/feature_extractor.py:14: FutureWarning: You are using `torch.load` with `weights_only=False` (the current default value), which uses the default pickle module implicitly. It is possible to construct malicious pickle data which will execute arbitrary code during unpickling (See https://github.com/pytorch/pytorch/blob/main/SECURITY.md#untrusted-models for more details). In a future release, the default value for `weights_only` will be flipped to `True`. This limits the functions that could be executed during unpickling. Arbitrary objects will no longer be allowed to be loaded via this mode unless they are explicitly allowlisted by the user via `torch.serialization.add_safe_globals`. We recommend you start setting `weights_only=True` for any use case where you don't have full control of the loaded file. Please open an issue on GitHub for any issues related to this experimental feature.\n",
            "  state_dict = torch.load(model_path, map_location=torch.device(self.device))[\n",
            "[2024-09-01 20:30:05,332][root.tracker][INFO] - Loading weights from deep_sort_pytorch/deep_sort/deep/checkpoint/ckpt.t7... Done!\n",
            "2024-09-01 20:30:05.657702: E external/local_xla/xla/stream_executor/cuda/cuda_fft.cc:485] Unable to register cuFFT factory: Attempting to register factory for plugin cuFFT when one has already been registered\n",
            "2024-09-01 20:30:05.675511: E external/local_xla/xla/stream_executor/cuda/cuda_dnn.cc:8454] Unable to register cuDNN factory: Attempting to register factory for plugin cuDNN when one has already been registered\n",
            "2024-09-01 20:30:05.681123: E external/local_xla/xla/stream_executor/cuda/cuda_blas.cc:1452] Unable to register cuBLAS factory: Attempting to register factory for plugin cuBLAS when one has already been registered\n",
            "2024-09-01 20:30:05.695916: I tensorflow/core/platform/cpu_feature_guard.cc:210] This TensorFlow binary is optimized to use available CPU instructions in performance-critical operations.\n",
            "To enable the following instructions: AVX2 FMA, in other operations, rebuild TensorFlow with the appropriate compiler flags.\n",
            "2024-09-01 20:30:07.041427: W tensorflow/compiler/tf2tensorrt/utils/py_utils.cc:38] TF-TRT Warning: Could not find TensorRT\n",
            "Ultralytics YOLOv8.0.3 🚀 Python-3.10.12 torch-2.4.0+cu121 CUDA:0 (Tesla T4, 15102MiB)\n",
            "/content/YOLOv8-DeepSORT-Object-Tracking/ultralytics/nn/tasks.py:303: FutureWarning: You are using `torch.load` with `weights_only=False` (the current default value), which uses the default pickle module implicitly. It is possible to construct malicious pickle data which will execute arbitrary code during unpickling (See https://github.com/pytorch/pytorch/blob/main/SECURITY.md#untrusted-models for more details). In a future release, the default value for `weights_only` will be flipped to `True`. This limits the functions that could be executed during unpickling. Arbitrary objects will no longer be allowed to be loaded via this mode unless they are explicitly allowlisted by the user via `torch.serialization.add_safe_globals`. We recommend you start setting `weights_only=True` for any use case where you don't have full control of the loaded file. Please open an issue on GitHub for any issues related to this experimental feature.\n",
            "  ckpt = torch.load(attempt_download(w), map_location='cpu')  # load\n",
            "Fusing layers... \n",
            "YOLOv8n summary: 168 layers, 3151904 parameters, 0 gradients, 8.7 GFLOPs\n",
            "WARNING ⚠️ NMS time limit 0.550s exceeded\n",
            "video 1/1 (1/508) /content/YOLOv8-DeepSORT-Object-Tracking/ultralytics/yolo/v8/detect/test3.mp4: 384x640 1 car, 41.4ms\n",
            "video 1/1 (2/508) /content/YOLOv8-DeepSORT-Object-Tracking/ultralytics/yolo/v8/detect/test3.mp4: 384x640 1 car, 7.9ms\n",
            "video 1/1 (3/508) /content/YOLOv8-DeepSORT-Object-Tracking/ultralytics/yolo/v8/detect/test3.mp4: 384x640 1 car, 7.6ms\n",
            "video 1/1 (4/508) /content/YOLOv8-DeepSORT-Object-Tracking/ultralytics/yolo/v8/detect/test3.mp4: 384x640 1 car, 8.2ms\n",
            "video 1/1 (5/508) /content/YOLOv8-DeepSORT-Object-Tracking/ultralytics/yolo/v8/detect/test3.mp4: 384x640 2 cars, 7.7ms\n",
            "video 1/1 (6/508) /content/YOLOv8-DeepSORT-Object-Tracking/ultralytics/yolo/v8/detect/test3.mp4: 384x640 2 cars, 16.4ms\n",
            "video 1/1 (7/508) /content/YOLOv8-DeepSORT-Object-Tracking/ultralytics/yolo/v8/detect/test3.mp4: 384x640 2 cars, 15.2ms\n",
            "video 1/1 (8/508) /content/YOLOv8-DeepSORT-Object-Tracking/ultralytics/yolo/v8/detect/test3.mp4: 384x640 2 cars, 24.7ms\n",
            "video 1/1 (9/508) /content/YOLOv8-DeepSORT-Object-Tracking/ultralytics/yolo/v8/detect/test3.mp4: 384x640 2 cars, 9.2ms\n",
            "video 1/1 (10/508) /content/YOLOv8-DeepSORT-Object-Tracking/ultralytics/yolo/v8/detect/test3.mp4: 384x640 2 cars, 12.5ms\n",
            "video 1/1 (11/508) /content/YOLOv8-DeepSORT-Object-Tracking/ultralytics/yolo/v8/detect/test3.mp4: 384x640 2 cars, 20.6ms\n",
            "video 1/1 (12/508) /content/YOLOv8-DeepSORT-Object-Tracking/ultralytics/yolo/v8/detect/test3.mp4: 384x640 2 cars, 18.1ms\n",
            "video 1/1 (13/508) /content/YOLOv8-DeepSORT-Object-Tracking/ultralytics/yolo/v8/detect/test3.mp4: 384x640 3 cars, 17.1ms\n",
            "video 1/1 (14/508) /content/YOLOv8-DeepSORT-Object-Tracking/ultralytics/yolo/v8/detect/test3.mp4: 384x640 3 cars, 8.1ms\n",
            "video 1/1 (15/508) /content/YOLOv8-DeepSORT-Object-Tracking/ultralytics/yolo/v8/detect/test3.mp4: 384x640 3 cars, 1 truck, 8.1ms\n",
            "video 1/1 (16/508) /content/YOLOv8-DeepSORT-Object-Tracking/ultralytics/yolo/v8/detect/test3.mp4: 384x640 3 cars, 14.3ms\n",
            "video 1/1 (17/508) /content/YOLOv8-DeepSORT-Object-Tracking/ultralytics/yolo/v8/detect/test3.mp4: 384x640 4 cars, 16.4ms\n",
            "video 1/1 (18/508) /content/YOLOv8-DeepSORT-Object-Tracking/ultralytics/yolo/v8/detect/test3.mp4: 384x640 3 cars, 10.1ms\n",
            "video 1/1 (19/508) /content/YOLOv8-DeepSORT-Object-Tracking/ultralytics/yolo/v8/detect/test3.mp4: 384x640 3 cars, 8.5ms\n",
            "video 1/1 (20/508) /content/YOLOv8-DeepSORT-Object-Tracking/ultralytics/yolo/v8/detect/test3.mp4: 384x640 2 cars, 13.3ms\n",
            "video 1/1 (21/508) /content/YOLOv8-DeepSORT-Object-Tracking/ultralytics/yolo/v8/detect/test3.mp4: 384x640 3 cars, 22.5ms\n",
            "video 1/1 (22/508) /content/YOLOv8-DeepSORT-Object-Tracking/ultralytics/yolo/v8/detect/test3.mp4: 384x640 3 cars, 19.8ms\n",
            "video 1/1 (23/508) /content/YOLOv8-DeepSORT-Object-Tracking/ultralytics/yolo/v8/detect/test3.mp4: 384x640 3 cars, 23.6ms\n",
            "video 1/1 (24/508) /content/YOLOv8-DeepSORT-Object-Tracking/ultralytics/yolo/v8/detect/test3.mp4: 384x640 2 cars, 24.2ms\n",
            "video 1/1 (25/508) /content/YOLOv8-DeepSORT-Object-Tracking/ultralytics/yolo/v8/detect/test3.mp4: 384x640 2 cars, 22.8ms\n",
            "video 1/1 (26/508) /content/YOLOv8-DeepSORT-Object-Tracking/ultralytics/yolo/v8/detect/test3.mp4: 384x640 3 cars, 15.9ms\n",
            "video 1/1 (27/508) /content/YOLOv8-DeepSORT-Object-Tracking/ultralytics/yolo/v8/detect/test3.mp4: 384x640 3 cars, 17.9ms\n",
            "video 1/1 (28/508) /content/YOLOv8-DeepSORT-Object-Tracking/ultralytics/yolo/v8/detect/test3.mp4: 384x640 3 cars, 24.2ms\n",
            "video 1/1 (29/508) /content/YOLOv8-DeepSORT-Object-Tracking/ultralytics/yolo/v8/detect/test3.mp4: 384x640 2 cars, 16.4ms\n",
            "video 1/1 (30/508) /content/YOLOv8-DeepSORT-Object-Tracking/ultralytics/yolo/v8/detect/test3.mp4: 384x640 2 cars, 15.4ms\n",
            "video 1/1 (31/508) /content/YOLOv8-DeepSORT-Object-Tracking/ultralytics/yolo/v8/detect/test3.mp4: 384x640 2 cars, 15.9ms\n",
            "video 1/1 (32/508) /content/YOLOv8-DeepSORT-Object-Tracking/ultralytics/yolo/v8/detect/test3.mp4: 384x640 3 cars, 17.3ms\n",
            "video 1/1 (33/508) /content/YOLOv8-DeepSORT-Object-Tracking/ultralytics/yolo/v8/detect/test3.mp4: 384x640 4 cars, 27.0ms\n",
            "video 1/1 (34/508) /content/YOLOv8-DeepSORT-Object-Tracking/ultralytics/yolo/v8/detect/test3.mp4: 384x640 4 cars, 25.2ms\n",
            "video 1/1 (35/508) /content/YOLOv8-DeepSORT-Object-Tracking/ultralytics/yolo/v8/detect/test3.mp4: 384x640 2 cars, 24.0ms\n",
            "video 1/1 (36/508) /content/YOLOv8-DeepSORT-Object-Tracking/ultralytics/yolo/v8/detect/test3.mp4: 384x640 3 cars, 17.1ms\n",
            "video 1/1 (37/508) /content/YOLOv8-DeepSORT-Object-Tracking/ultralytics/yolo/v8/detect/test3.mp4: 384x640 2 cars, 20.5ms\n",
            "video 1/1 (38/508) /content/YOLOv8-DeepSORT-Object-Tracking/ultralytics/yolo/v8/detect/test3.mp4: 384x640 2 cars, 25.3ms\n",
            "video 1/1 (39/508) /content/YOLOv8-DeepSORT-Object-Tracking/ultralytics/yolo/v8/detect/test3.mp4: 384x640 4 cars, 28.3ms\n",
            "video 1/1 (40/508) /content/YOLOv8-DeepSORT-Object-Tracking/ultralytics/yolo/v8/detect/test3.mp4: 384x640 3 cars, 23.3ms\n",
            "video 1/1 (41/508) /content/YOLOv8-DeepSORT-Object-Tracking/ultralytics/yolo/v8/detect/test3.mp4: 384x640 4 cars, 27.3ms\n",
            "video 1/1 (42/508) /content/YOLOv8-DeepSORT-Object-Tracking/ultralytics/yolo/v8/detect/test3.mp4: 384x640 5 cars, 10.2ms\n",
            "video 1/1 (43/508) /content/YOLOv8-DeepSORT-Object-Tracking/ultralytics/yolo/v8/detect/test3.mp4: 384x640 6 cars, 7.7ms\n",
            "video 1/1 (44/508) /content/YOLOv8-DeepSORT-Object-Tracking/ultralytics/yolo/v8/detect/test3.mp4: 384x640 5 cars, 7.7ms\n",
            "video 1/1 (45/508) /content/YOLOv8-DeepSORT-Object-Tracking/ultralytics/yolo/v8/detect/test3.mp4: 384x640 3 cars, 7.2ms\n",
            "video 1/1 (46/508) /content/YOLOv8-DeepSORT-Object-Tracking/ultralytics/yolo/v8/detect/test3.mp4: 384x640 6 cars, 10.0ms\n",
            "video 1/1 (47/508) /content/YOLOv8-DeepSORT-Object-Tracking/ultralytics/yolo/v8/detect/test3.mp4: 384x640 4 cars, 7.3ms\n",
            "video 1/1 (48/508) /content/YOLOv8-DeepSORT-Object-Tracking/ultralytics/yolo/v8/detect/test3.mp4: 384x640 5 cars, 7.4ms\n",
            "video 1/1 (49/508) /content/YOLOv8-DeepSORT-Object-Tracking/ultralytics/yolo/v8/detect/test3.mp4: 384x640 6 cars, 7.3ms\n",
            "video 1/1 (50/508) /content/YOLOv8-DeepSORT-Object-Tracking/ultralytics/yolo/v8/detect/test3.mp4: 384x640 7 cars, 7.4ms\n",
            "video 1/1 (51/508) /content/YOLOv8-DeepSORT-Object-Tracking/ultralytics/yolo/v8/detect/test3.mp4: 384x640 5 cars, 7.3ms\n",
            "video 1/1 (52/508) /content/YOLOv8-DeepSORT-Object-Tracking/ultralytics/yolo/v8/detect/test3.mp4: 384x640 4 cars, 7.5ms\n",
            "video 1/1 (53/508) /content/YOLOv8-DeepSORT-Object-Tracking/ultralytics/yolo/v8/detect/test3.mp4: 384x640 5 cars, 7.4ms\n",
            "video 1/1 (54/508) /content/YOLOv8-DeepSORT-Object-Tracking/ultralytics/yolo/v8/detect/test3.mp4: 384x640 4 cars, 7.5ms\n",
            "video 1/1 (55/508) /content/YOLOv8-DeepSORT-Object-Tracking/ultralytics/yolo/v8/detect/test3.mp4: 384x640 3 cars, 7.3ms\n",
            "video 1/1 (56/508) /content/YOLOv8-DeepSORT-Object-Tracking/ultralytics/yolo/v8/detect/test3.mp4: 384x640 4 cars, 7.7ms\n",
            "video 1/1 (57/508) /content/YOLOv8-DeepSORT-Object-Tracking/ultralytics/yolo/v8/detect/test3.mp4: 384x640 4 cars, 7.4ms\n",
            "video 1/1 (58/508) /content/YOLOv8-DeepSORT-Object-Tracking/ultralytics/yolo/v8/detect/test3.mp4: 384x640 4 cars, 7.2ms\n",
            "video 1/1 (59/508) /content/YOLOv8-DeepSORT-Object-Tracking/ultralytics/yolo/v8/detect/test3.mp4: 384x640 4 cars, 7.2ms\n",
            "video 1/1 (60/508) /content/YOLOv8-DeepSORT-Object-Tracking/ultralytics/yolo/v8/detect/test3.mp4: 384x640 4 cars, 7.2ms\n",
            "video 1/1 (61/508) /content/YOLOv8-DeepSORT-Object-Tracking/ultralytics/yolo/v8/detect/test3.mp4: 384x640 4 cars, 7.2ms\n",
            "video 1/1 (62/508) /content/YOLOv8-DeepSORT-Object-Tracking/ultralytics/yolo/v8/detect/test3.mp4: 384x640 5 cars, 7.5ms\n",
            "video 1/1 (63/508) /content/YOLOv8-DeepSORT-Object-Tracking/ultralytics/yolo/v8/detect/test3.mp4: 384x640 5 cars, 8.1ms\n",
            "video 1/1 (64/508) /content/YOLOv8-DeepSORT-Object-Tracking/ultralytics/yolo/v8/detect/test3.mp4: 384x640 5 cars, 7.0ms\n",
            "video 1/1 (65/508) /content/YOLOv8-DeepSORT-Object-Tracking/ultralytics/yolo/v8/detect/test3.mp4: 384x640 4 cars, 8.4ms\n",
            "video 1/1 (66/508) /content/YOLOv8-DeepSORT-Object-Tracking/ultralytics/yolo/v8/detect/test3.mp4: 384x640 4 cars, 13.5ms\n",
            "video 1/1 (67/508) /content/YOLOv8-DeepSORT-Object-Tracking/ultralytics/yolo/v8/detect/test3.mp4: 384x640 4 cars, 7.6ms\n",
            "video 1/1 (68/508) /content/YOLOv8-DeepSORT-Object-Tracking/ultralytics/yolo/v8/detect/test3.mp4: 384x640 5 cars, 7.2ms\n",
            "video 1/1 (69/508) /content/YOLOv8-DeepSORT-Object-Tracking/ultralytics/yolo/v8/detect/test3.mp4: 384x640 5 cars, 8.3ms\n",
            "video 1/1 (70/508) /content/YOLOv8-DeepSORT-Object-Tracking/ultralytics/yolo/v8/detect/test3.mp4: 384x640 4 cars, 7.5ms\n",
            "video 1/1 (71/508) /content/YOLOv8-DeepSORT-Object-Tracking/ultralytics/yolo/v8/detect/test3.mp4: 384x640 5 cars, 1 truck, 7.4ms\n",
            "video 1/1 (72/508) /content/YOLOv8-DeepSORT-Object-Tracking/ultralytics/yolo/v8/detect/test3.mp4: 384x640 6 cars, 7.8ms\n",
            "video 1/1 (73/508) /content/YOLOv8-DeepSORT-Object-Tracking/ultralytics/yolo/v8/detect/test3.mp4: 384x640 6 cars, 7.4ms\n",
            "video 1/1 (74/508) /content/YOLOv8-DeepSORT-Object-Tracking/ultralytics/yolo/v8/detect/test3.mp4: 384x640 6 cars, 7.3ms\n",
            "video 1/1 (75/508) /content/YOLOv8-DeepSORT-Object-Tracking/ultralytics/yolo/v8/detect/test3.mp4: 384x640 6 cars, 7.3ms\n",
            "video 1/1 (76/508) /content/YOLOv8-DeepSORT-Object-Tracking/ultralytics/yolo/v8/detect/test3.mp4: 384x640 5 cars, 7.7ms\n",
            "video 1/1 (77/508) /content/YOLOv8-DeepSORT-Object-Tracking/ultralytics/yolo/v8/detect/test3.mp4: 384x640 5 cars, 7.6ms\n",
            "video 1/1 (78/508) /content/YOLOv8-DeepSORT-Object-Tracking/ultralytics/yolo/v8/detect/test3.mp4: 384x640 5 cars, 7.9ms\n",
            "video 1/1 (79/508) /content/YOLOv8-DeepSORT-Object-Tracking/ultralytics/yolo/v8/detect/test3.mp4: 384x640 5 cars, 1 truck, 7.3ms\n",
            "video 1/1 (80/508) /content/YOLOv8-DeepSORT-Object-Tracking/ultralytics/yolo/v8/detect/test3.mp4: 384x640 6 cars, 1 truck, 7.6ms\n",
            "video 1/1 (81/508) /content/YOLOv8-DeepSORT-Object-Tracking/ultralytics/yolo/v8/detect/test3.mp4: 384x640 6 cars, 7.7ms\n",
            "video 1/1 (82/508) /content/YOLOv8-DeepSORT-Object-Tracking/ultralytics/yolo/v8/detect/test3.mp4: 384x640 6 cars, 7.6ms\n",
            "video 1/1 (83/508) /content/YOLOv8-DeepSORT-Object-Tracking/ultralytics/yolo/v8/detect/test3.mp4: 384x640 6 cars, 16.1ms\n",
            "video 1/1 (84/508) /content/YOLOv8-DeepSORT-Object-Tracking/ultralytics/yolo/v8/detect/test3.mp4: 384x640 5 cars, 7.7ms\n",
            "video 1/1 (85/508) /content/YOLOv8-DeepSORT-Object-Tracking/ultralytics/yolo/v8/detect/test3.mp4: 384x640 6 cars, 7.3ms\n",
            "video 1/1 (86/508) /content/YOLOv8-DeepSORT-Object-Tracking/ultralytics/yolo/v8/detect/test3.mp4: 384x640 5 cars, 9.5ms\n",
            "video 1/1 (87/508) /content/YOLOv8-DeepSORT-Object-Tracking/ultralytics/yolo/v8/detect/test3.mp4: 384x640 5 cars, 7.7ms\n",
            "video 1/1 (88/508) /content/YOLOv8-DeepSORT-Object-Tracking/ultralytics/yolo/v8/detect/test3.mp4: 384x640 5 cars, 7.2ms\n",
            "video 1/1 (89/508) /content/YOLOv8-DeepSORT-Object-Tracking/ultralytics/yolo/v8/detect/test3.mp4: 384x640 5 cars, 7.3ms\n",
            "video 1/1 (90/508) /content/YOLOv8-DeepSORT-Object-Tracking/ultralytics/yolo/v8/detect/test3.mp4: 384x640 5 cars, 7.5ms\n",
            "video 1/1 (91/508) /content/YOLOv8-DeepSORT-Object-Tracking/ultralytics/yolo/v8/detect/test3.mp4: 384x640 5 cars, 7.6ms\n",
            "video 1/1 (92/508) /content/YOLOv8-DeepSORT-Object-Tracking/ultralytics/yolo/v8/detect/test3.mp4: 384x640 6 cars, 7.5ms\n",
            "video 1/1 (93/508) /content/YOLOv8-DeepSORT-Object-Tracking/ultralytics/yolo/v8/detect/test3.mp4: 384x640 8 cars, 9.5ms\n",
            "video 1/1 (94/508) /content/YOLOv8-DeepSORT-Object-Tracking/ultralytics/yolo/v8/detect/test3.mp4: 384x640 8 cars, 7.6ms\n",
            "video 1/1 (95/508) /content/YOLOv8-DeepSORT-Object-Tracking/ultralytics/yolo/v8/detect/test3.mp4: 384x640 7 cars, 7.6ms\n",
            "video 1/1 (96/508) /content/YOLOv8-DeepSORT-Object-Tracking/ultralytics/yolo/v8/detect/test3.mp4: 384x640 7 cars, 11.0ms\n",
            "video 1/1 (97/508) /content/YOLOv8-DeepSORT-Object-Tracking/ultralytics/yolo/v8/detect/test3.mp4: 384x640 7 cars, 7.8ms\n",
            "video 1/1 (98/508) /content/YOLOv8-DeepSORT-Object-Tracking/ultralytics/yolo/v8/detect/test3.mp4: 384x640 6 cars, 7.7ms\n",
            "video 1/1 (99/508) /content/YOLOv8-DeepSORT-Object-Tracking/ultralytics/yolo/v8/detect/test3.mp4: 384x640 6 cars, 11.2ms\n",
            "video 1/1 (100/508) /content/YOLOv8-DeepSORT-Object-Tracking/ultralytics/yolo/v8/detect/test3.mp4: 384x640 5 cars, 16.8ms\n",
            "video 1/1 (101/508) /content/YOLOv8-DeepSORT-Object-Tracking/ultralytics/yolo/v8/detect/test3.mp4: 384x640 4 cars, 7.6ms\n",
            "video 1/1 (102/508) /content/YOLOv8-DeepSORT-Object-Tracking/ultralytics/yolo/v8/detect/test3.mp4: 384x640 5 cars, 7.8ms\n",
            "video 1/1 (103/508) /content/YOLOv8-DeepSORT-Object-Tracking/ultralytics/yolo/v8/detect/test3.mp4: 384x640 4 cars, 15.3ms\n",
            "video 1/1 (104/508) /content/YOLOv8-DeepSORT-Object-Tracking/ultralytics/yolo/v8/detect/test3.mp4: 384x640 4 cars, 13.8ms\n",
            "video 1/1 (105/508) /content/YOLOv8-DeepSORT-Object-Tracking/ultralytics/yolo/v8/detect/test3.mp4: 384x640 4 cars, 7.5ms\n",
            "video 1/1 (106/508) /content/YOLOv8-DeepSORT-Object-Tracking/ultralytics/yolo/v8/detect/test3.mp4: 384x640 4 cars, 9.3ms\n",
            "video 1/1 (107/508) /content/YOLOv8-DeepSORT-Object-Tracking/ultralytics/yolo/v8/detect/test3.mp4: 384x640 4 cars, 8.0ms\n",
            "video 1/1 (108/508) /content/YOLOv8-DeepSORT-Object-Tracking/ultralytics/yolo/v8/detect/test3.mp4: 384x640 4 cars, 40.1ms\n",
            "video 1/1 (109/508) /content/YOLOv8-DeepSORT-Object-Tracking/ultralytics/yolo/v8/detect/test3.mp4: 384x640 5 cars, 7.4ms\n",
            "video 1/1 (110/508) /content/YOLOv8-DeepSORT-Object-Tracking/ultralytics/yolo/v8/detect/test3.mp4: 384x640 4 cars, 7.6ms\n",
            "video 1/1 (111/508) /content/YOLOv8-DeepSORT-Object-Tracking/ultralytics/yolo/v8/detect/test3.mp4: 384x640 4 cars, 7.5ms\n",
            "video 1/1 (112/508) /content/YOLOv8-DeepSORT-Object-Tracking/ultralytics/yolo/v8/detect/test3.mp4: 384x640 3 cars, 8.0ms\n",
            "video 1/1 (113/508) /content/YOLOv8-DeepSORT-Object-Tracking/ultralytics/yolo/v8/detect/test3.mp4: 384x640 3 cars, 8.0ms\n",
            "video 1/1 (114/508) /content/YOLOv8-DeepSORT-Object-Tracking/ultralytics/yolo/v8/detect/test3.mp4: 384x640 3 cars, 10.7ms\n",
            "video 1/1 (115/508) /content/YOLOv8-DeepSORT-Object-Tracking/ultralytics/yolo/v8/detect/test3.mp4: 384x640 4 cars, 7.4ms\n",
            "video 1/1 (116/508) /content/YOLOv8-DeepSORT-Object-Tracking/ultralytics/yolo/v8/detect/test3.mp4: 384x640 4 cars, 7.3ms\n",
            "video 1/1 (117/508) /content/YOLOv8-DeepSORT-Object-Tracking/ultralytics/yolo/v8/detect/test3.mp4: 384x640 3 cars, 8.1ms\n",
            "video 1/1 (118/508) /content/YOLOv8-DeepSORT-Object-Tracking/ultralytics/yolo/v8/detect/test3.mp4: 384x640 4 cars, 7.6ms\n",
            "video 1/1 (119/508) /content/YOLOv8-DeepSORT-Object-Tracking/ultralytics/yolo/v8/detect/test3.mp4: 384x640 4 cars, 7.8ms\n",
            "video 1/1 (120/508) /content/YOLOv8-DeepSORT-Object-Tracking/ultralytics/yolo/v8/detect/test3.mp4: 384x640 6 cars, 11.7ms\n",
            "video 1/1 (121/508) /content/YOLOv8-DeepSORT-Object-Tracking/ultralytics/yolo/v8/detect/test3.mp4: 384x640 5 cars, 8.5ms\n",
            "video 1/1 (122/508) /content/YOLOv8-DeepSORT-Object-Tracking/ultralytics/yolo/v8/detect/test3.mp4: 384x640 5 cars, 8.4ms\n",
            "video 1/1 (123/508) /content/YOLOv8-DeepSORT-Object-Tracking/ultralytics/yolo/v8/detect/test3.mp4: 384x640 6 cars, 27.8ms\n",
            "video 1/1 (124/508) /content/YOLOv8-DeepSORT-Object-Tracking/ultralytics/yolo/v8/detect/test3.mp4: 384x640 6 cars, 8.0ms\n",
            "video 1/1 (125/508) /content/YOLOv8-DeepSORT-Object-Tracking/ultralytics/yolo/v8/detect/test3.mp4: 384x640 6 cars, 11.9ms\n",
            "video 1/1 (126/508) /content/YOLOv8-DeepSORT-Object-Tracking/ultralytics/yolo/v8/detect/test3.mp4: 384x640 6 cars, 12.6ms\n",
            "video 1/1 (127/508) /content/YOLOv8-DeepSORT-Object-Tracking/ultralytics/yolo/v8/detect/test3.mp4: 384x640 5 cars, 7.4ms\n",
            "video 1/1 (128/508) /content/YOLOv8-DeepSORT-Object-Tracking/ultralytics/yolo/v8/detect/test3.mp4: 384x640 6 cars, 18.4ms\n",
            "video 1/1 (129/508) /content/YOLOv8-DeepSORT-Object-Tracking/ultralytics/yolo/v8/detect/test3.mp4: 384x640 6 cars, 7.7ms\n",
            "video 1/1 (130/508) /content/YOLOv8-DeepSORT-Object-Tracking/ultralytics/yolo/v8/detect/test3.mp4: 384x640 5 cars, 7.7ms\n",
            "video 1/1 (131/508) /content/YOLOv8-DeepSORT-Object-Tracking/ultralytics/yolo/v8/detect/test3.mp4: 384x640 5 cars, 7.5ms\n",
            "video 1/1 (132/508) /content/YOLOv8-DeepSORT-Object-Tracking/ultralytics/yolo/v8/detect/test3.mp4: 384x640 4 cars, 7.4ms\n",
            "video 1/1 (133/508) /content/YOLOv8-DeepSORT-Object-Tracking/ultralytics/yolo/v8/detect/test3.mp4: 384x640 4 cars, 16.1ms\n",
            "video 1/1 (134/508) /content/YOLOv8-DeepSORT-Object-Tracking/ultralytics/yolo/v8/detect/test3.mp4: 384x640 4 cars, 10.4ms\n",
            "video 1/1 (135/508) /content/YOLOv8-DeepSORT-Object-Tracking/ultralytics/yolo/v8/detect/test3.mp4: 384x640 5 cars, 8.2ms\n",
            "video 1/1 (136/508) /content/YOLOv8-DeepSORT-Object-Tracking/ultralytics/yolo/v8/detect/test3.mp4: 384x640 4 cars, 8.1ms\n",
            "video 1/1 (137/508) /content/YOLOv8-DeepSORT-Object-Tracking/ultralytics/yolo/v8/detect/test3.mp4: 384x640 4 cars, 9.7ms\n",
            "video 1/1 (138/508) /content/YOLOv8-DeepSORT-Object-Tracking/ultralytics/yolo/v8/detect/test3.mp4: 384x640 4 cars, 7.3ms\n",
            "video 1/1 (139/508) /content/YOLOv8-DeepSORT-Object-Tracking/ultralytics/yolo/v8/detect/test3.mp4: 384x640 4 cars, 7.6ms\n",
            "video 1/1 (140/508) /content/YOLOv8-DeepSORT-Object-Tracking/ultralytics/yolo/v8/detect/test3.mp4: 384x640 4 cars, 7.2ms\n",
            "video 1/1 (141/508) /content/YOLOv8-DeepSORT-Object-Tracking/ultralytics/yolo/v8/detect/test3.mp4: 384x640 4 cars, 7.4ms\n",
            "video 1/1 (142/508) /content/YOLOv8-DeepSORT-Object-Tracking/ultralytics/yolo/v8/detect/test3.mp4: 384x640 4 cars, 10.2ms\n",
            "video 1/1 (143/508) /content/YOLOv8-DeepSORT-Object-Tracking/ultralytics/yolo/v8/detect/test3.mp4: 384x640 4 cars, 7.2ms\n",
            "video 1/1 (144/508) /content/YOLOv8-DeepSORT-Object-Tracking/ultralytics/yolo/v8/detect/test3.mp4: 384x640 4 cars, 7.1ms\n",
            "video 1/1 (145/508) /content/YOLOv8-DeepSORT-Object-Tracking/ultralytics/yolo/v8/detect/test3.mp4: 384x640 3 cars, 7.6ms\n",
            "video 1/1 (146/508) /content/YOLOv8-DeepSORT-Object-Tracking/ultralytics/yolo/v8/detect/test3.mp4: 384x640 3 cars, 7.3ms\n",
            "video 1/1 (147/508) /content/YOLOv8-DeepSORT-Object-Tracking/ultralytics/yolo/v8/detect/test3.mp4: 384x640 3 cars, 7.4ms\n",
            "video 1/1 (148/508) /content/YOLOv8-DeepSORT-Object-Tracking/ultralytics/yolo/v8/detect/test3.mp4: 384x640 3 cars, 7.6ms\n",
            "video 1/1 (149/508) /content/YOLOv8-DeepSORT-Object-Tracking/ultralytics/yolo/v8/detect/test3.mp4: 384x640 4 cars, 7.7ms\n",
            "video 1/1 (150/508) /content/YOLOv8-DeepSORT-Object-Tracking/ultralytics/yolo/v8/detect/test3.mp4: 384x640 4 cars, 19.3ms\n",
            "video 1/1 (151/508) /content/YOLOv8-DeepSORT-Object-Tracking/ultralytics/yolo/v8/detect/test3.mp4: 384x640 4 cars, 13.6ms\n",
            "video 1/1 (152/508) /content/YOLOv8-DeepSORT-Object-Tracking/ultralytics/yolo/v8/detect/test3.mp4: 384x640 3 cars, 16.9ms\n",
            "video 1/1 (153/508) /content/YOLOv8-DeepSORT-Object-Tracking/ultralytics/yolo/v8/detect/test3.mp4: 384x640 4 cars, 7.4ms\n",
            "video 1/1 (154/508) /content/YOLOv8-DeepSORT-Object-Tracking/ultralytics/yolo/v8/detect/test3.mp4: 384x640 4 cars, 11.7ms\n",
            "video 1/1 (155/508) /content/YOLOv8-DeepSORT-Object-Tracking/ultralytics/yolo/v8/detect/test3.mp4: 384x640 3 cars, 7.5ms\n",
            "video 1/1 (156/508) /content/YOLOv8-DeepSORT-Object-Tracking/ultralytics/yolo/v8/detect/test3.mp4: 384x640 3 cars, 7.7ms\n",
            "video 1/1 (157/508) /content/YOLOv8-DeepSORT-Object-Tracking/ultralytics/yolo/v8/detect/test3.mp4: 384x640 3 cars, 7.2ms\n",
            "video 1/1 (158/508) /content/YOLOv8-DeepSORT-Object-Tracking/ultralytics/yolo/v8/detect/test3.mp4: 384x640 4 cars, 7.6ms\n",
            "video 1/1 (159/508) /content/YOLOv8-DeepSORT-Object-Tracking/ultralytics/yolo/v8/detect/test3.mp4: 384x640 4 cars, 7.2ms\n",
            "video 1/1 (160/508) /content/YOLOv8-DeepSORT-Object-Tracking/ultralytics/yolo/v8/detect/test3.mp4: 384x640 4 cars, 20.6ms\n",
            "video 1/1 (161/508) /content/YOLOv8-DeepSORT-Object-Tracking/ultralytics/yolo/v8/detect/test3.mp4: 384x640 4 cars, 7.9ms\n",
            "video 1/1 (162/508) /content/YOLOv8-DeepSORT-Object-Tracking/ultralytics/yolo/v8/detect/test3.mp4: 384x640 4 cars, 12.6ms\n",
            "video 1/1 (163/508) /content/YOLOv8-DeepSORT-Object-Tracking/ultralytics/yolo/v8/detect/test3.mp4: 384x640 4 cars, 7.7ms\n",
            "video 1/1 (164/508) /content/YOLOv8-DeepSORT-Object-Tracking/ultralytics/yolo/v8/detect/test3.mp4: 384x640 4 cars, 10.2ms\n",
            "video 1/1 (165/508) /content/YOLOv8-DeepSORT-Object-Tracking/ultralytics/yolo/v8/detect/test3.mp4: 384x640 3 cars, 19.9ms\n",
            "video 1/1 (166/508) /content/YOLOv8-DeepSORT-Object-Tracking/ultralytics/yolo/v8/detect/test3.mp4: 384x640 3 cars, 7.2ms\n",
            "video 1/1 (167/508) /content/YOLOv8-DeepSORT-Object-Tracking/ultralytics/yolo/v8/detect/test3.mp4: 384x640 4 cars, 7.3ms\n",
            "video 1/1 (168/508) /content/YOLOv8-DeepSORT-Object-Tracking/ultralytics/yolo/v8/detect/test3.mp4: 384x640 3 cars, 16.7ms\n",
            "video 1/1 (169/508) /content/YOLOv8-DeepSORT-Object-Tracking/ultralytics/yolo/v8/detect/test3.mp4: 384x640 3 cars, 9.9ms\n",
            "video 1/1 (170/508) /content/YOLOv8-DeepSORT-Object-Tracking/ultralytics/yolo/v8/detect/test3.mp4: 384x640 3 cars, 7.7ms\n",
            "video 1/1 (171/508) /content/YOLOv8-DeepSORT-Object-Tracking/ultralytics/yolo/v8/detect/test3.mp4: 384x640 3 cars, 7.1ms\n",
            "video 1/1 (172/508) /content/YOLOv8-DeepSORT-Object-Tracking/ultralytics/yolo/v8/detect/test3.mp4: 384x640 3 cars, 8.8ms\n",
            "video 1/1 (173/508) /content/YOLOv8-DeepSORT-Object-Tracking/ultralytics/yolo/v8/detect/test3.mp4: 384x640 4 cars, 7.4ms\n",
            "video 1/1 (174/508) /content/YOLOv8-DeepSORT-Object-Tracking/ultralytics/yolo/v8/detect/test3.mp4: 384x640 5 cars, 7.5ms\n",
            "video 1/1 (175/508) /content/YOLOv8-DeepSORT-Object-Tracking/ultralytics/yolo/v8/detect/test3.mp4: 384x640 4 cars, 17.1ms\n",
            "video 1/1 (176/508) /content/YOLOv8-DeepSORT-Object-Tracking/ultralytics/yolo/v8/detect/test3.mp4: 384x640 4 cars, 7.7ms\n",
            "video 1/1 (177/508) /content/YOLOv8-DeepSORT-Object-Tracking/ultralytics/yolo/v8/detect/test3.mp4: 384x640 3 cars, 9.2ms\n",
            "video 1/1 (178/508) /content/YOLOv8-DeepSORT-Object-Tracking/ultralytics/yolo/v8/detect/test3.mp4: 384x640 3 cars, 7.3ms\n",
            "video 1/1 (179/508) /content/YOLOv8-DeepSORT-Object-Tracking/ultralytics/yolo/v8/detect/test3.mp4: 384x640 3 cars, 7.7ms\n",
            "video 1/1 (180/508) /content/YOLOv8-DeepSORT-Object-Tracking/ultralytics/yolo/v8/detect/test3.mp4: 384x640 3 cars, 9.2ms\n",
            "video 1/1 (181/508) /content/YOLOv8-DeepSORT-Object-Tracking/ultralytics/yolo/v8/detect/test3.mp4: 384x640 3 cars, 7.2ms\n",
            "video 1/1 (182/508) /content/YOLOv8-DeepSORT-Object-Tracking/ultralytics/yolo/v8/detect/test3.mp4: 384x640 3 cars, 7.7ms\n",
            "video 1/1 (183/508) /content/YOLOv8-DeepSORT-Object-Tracking/ultralytics/yolo/v8/detect/test3.mp4: 384x640 3 cars, 7.6ms\n",
            "video 1/1 (184/508) /content/YOLOv8-DeepSORT-Object-Tracking/ultralytics/yolo/v8/detect/test3.mp4: 384x640 3 cars, 7.2ms\n",
            "video 1/1 (185/508) /content/YOLOv8-DeepSORT-Object-Tracking/ultralytics/yolo/v8/detect/test3.mp4: 384x640 3 cars, 8.0ms\n",
            "video 1/1 (186/508) /content/YOLOv8-DeepSORT-Object-Tracking/ultralytics/yolo/v8/detect/test3.mp4: 384x640 3 cars, 7.2ms\n",
            "video 1/1 (187/508) /content/YOLOv8-DeepSORT-Object-Tracking/ultralytics/yolo/v8/detect/test3.mp4: 384x640 4 cars, 7.5ms\n",
            "video 1/1 (188/508) /content/YOLOv8-DeepSORT-Object-Tracking/ultralytics/yolo/v8/detect/test3.mp4: 384x640 4 cars, 7.8ms\n",
            "video 1/1 (189/508) /content/YOLOv8-DeepSORT-Object-Tracking/ultralytics/yolo/v8/detect/test3.mp4: 384x640 3 cars, 7.8ms\n",
            "video 1/1 (190/508) /content/YOLOv8-DeepSORT-Object-Tracking/ultralytics/yolo/v8/detect/test3.mp4: 384x640 4 cars, 7.2ms\n",
            "video 1/1 (191/508) /content/YOLOv8-DeepSORT-Object-Tracking/ultralytics/yolo/v8/detect/test3.mp4: 384x640 4 cars, 7.9ms\n",
            "video 1/1 (192/508) /content/YOLOv8-DeepSORT-Object-Tracking/ultralytics/yolo/v8/detect/test3.mp4: 384x640 3 cars, 8.7ms\n",
            "video 1/1 (193/508) /content/YOLOv8-DeepSORT-Object-Tracking/ultralytics/yolo/v8/detect/test3.mp4: 384x640 4 cars, 9.8ms\n",
            "video 1/1 (194/508) /content/YOLOv8-DeepSORT-Object-Tracking/ultralytics/yolo/v8/detect/test3.mp4: 384x640 3 cars, 7.8ms\n",
            "video 1/1 (195/508) /content/YOLOv8-DeepSORT-Object-Tracking/ultralytics/yolo/v8/detect/test3.mp4: 384x640 4 cars, 7.4ms\n",
            "video 1/1 (196/508) /content/YOLOv8-DeepSORT-Object-Tracking/ultralytics/yolo/v8/detect/test3.mp4: 384x640 3 cars, 7.3ms\n",
            "video 1/1 (197/508) /content/YOLOv8-DeepSORT-Object-Tracking/ultralytics/yolo/v8/detect/test3.mp4: 384x640 6 cars, 16.5ms\n",
            "video 1/1 (198/508) /content/YOLOv8-DeepSORT-Object-Tracking/ultralytics/yolo/v8/detect/test3.mp4: 384x640 6 cars, 17.6ms\n",
            "video 1/1 (199/508) /content/YOLOv8-DeepSORT-Object-Tracking/ultralytics/yolo/v8/detect/test3.mp4: 384x640 5 cars, 7.6ms\n",
            "video 1/1 (200/508) /content/YOLOv8-DeepSORT-Object-Tracking/ultralytics/yolo/v8/detect/test3.mp4: 384x640 4 cars, 8.0ms\n",
            "video 1/1 (201/508) /content/YOLOv8-DeepSORT-Object-Tracking/ultralytics/yolo/v8/detect/test3.mp4: 384x640 4 cars, 7.7ms\n",
            "video 1/1 (202/508) /content/YOLOv8-DeepSORT-Object-Tracking/ultralytics/yolo/v8/detect/test3.mp4: 384x640 4 cars, 16.8ms\n",
            "video 1/1 (203/508) /content/YOLOv8-DeepSORT-Object-Tracking/ultralytics/yolo/v8/detect/test3.mp4: 384x640 4 cars, 7.7ms\n",
            "video 1/1 (204/508) /content/YOLOv8-DeepSORT-Object-Tracking/ultralytics/yolo/v8/detect/test3.mp4: 384x640 3 cars, 16.7ms\n",
            "video 1/1 (205/508) /content/YOLOv8-DeepSORT-Object-Tracking/ultralytics/yolo/v8/detect/test3.mp4: 384x640 4 cars, 11.4ms\n",
            "video 1/1 (206/508) /content/YOLOv8-DeepSORT-Object-Tracking/ultralytics/yolo/v8/detect/test3.mp4: 384x640 3 cars, 27.8ms\n",
            "video 1/1 (207/508) /content/YOLOv8-DeepSORT-Object-Tracking/ultralytics/yolo/v8/detect/test3.mp4: 384x640 3 cars, 9.1ms\n",
            "video 1/1 (208/508) /content/YOLOv8-DeepSORT-Object-Tracking/ultralytics/yolo/v8/detect/test3.mp4: 384x640 4 cars, 25.9ms\n",
            "video 1/1 (209/508) /content/YOLOv8-DeepSORT-Object-Tracking/ultralytics/yolo/v8/detect/test3.mp4: 384x640 6 cars, 24.6ms\n",
            "video 1/1 (210/508) /content/YOLOv8-DeepSORT-Object-Tracking/ultralytics/yolo/v8/detect/test3.mp4: 384x640 5 cars, 15.1ms\n",
            "video 1/1 (211/508) /content/YOLOv8-DeepSORT-Object-Tracking/ultralytics/yolo/v8/detect/test3.mp4: 384x640 4 cars, 15.2ms\n",
            "video 1/1 (212/508) /content/YOLOv8-DeepSORT-Object-Tracking/ultralytics/yolo/v8/detect/test3.mp4: 384x640 5 cars, 24.6ms\n",
            "video 1/1 (213/508) /content/YOLOv8-DeepSORT-Object-Tracking/ultralytics/yolo/v8/detect/test3.mp4: 384x640 4 cars, 20.6ms\n",
            "video 1/1 (214/508) /content/YOLOv8-DeepSORT-Object-Tracking/ultralytics/yolo/v8/detect/test3.mp4: 384x640 4 cars, 7.9ms\n",
            "video 1/1 (215/508) /content/YOLOv8-DeepSORT-Object-Tracking/ultralytics/yolo/v8/detect/test3.mp4: 384x640 3 cars, 8.0ms\n",
            "video 1/1 (216/508) /content/YOLOv8-DeepSORT-Object-Tracking/ultralytics/yolo/v8/detect/test3.mp4: 384x640 3 cars, 22.6ms\n",
            "video 1/1 (217/508) /content/YOLOv8-DeepSORT-Object-Tracking/ultralytics/yolo/v8/detect/test3.mp4: 384x640 3 cars, 24.2ms\n",
            "video 1/1 (218/508) /content/YOLOv8-DeepSORT-Object-Tracking/ultralytics/yolo/v8/detect/test3.mp4: 384x640 3 cars, 22.1ms\n",
            "video 1/1 (219/508) /content/YOLOv8-DeepSORT-Object-Tracking/ultralytics/yolo/v8/detect/test3.mp4: 384x640 3 cars, 21.7ms\n",
            "video 1/1 (220/508) /content/YOLOv8-DeepSORT-Object-Tracking/ultralytics/yolo/v8/detect/test3.mp4: 384x640 3 cars, 14.4ms\n",
            "video 1/1 (221/508) /content/YOLOv8-DeepSORT-Object-Tracking/ultralytics/yolo/v8/detect/test3.mp4: 384x640 3 cars, 8.3ms\n",
            "video 1/1 (222/508) /content/YOLOv8-DeepSORT-Object-Tracking/ultralytics/yolo/v8/detect/test3.mp4: 384x640 3 cars, 20.9ms\n",
            "video 1/1 (223/508) /content/YOLOv8-DeepSORT-Object-Tracking/ultralytics/yolo/v8/detect/test3.mp4: 384x640 4 cars, 16.7ms\n",
            "video 1/1 (224/508) /content/YOLOv8-DeepSORT-Object-Tracking/ultralytics/yolo/v8/detect/test3.mp4: 384x640 4 cars, 24.3ms\n",
            "video 1/1 (225/508) /content/YOLOv8-DeepSORT-Object-Tracking/ultralytics/yolo/v8/detect/test3.mp4: 384x640 4 cars, 17.2ms\n",
            "video 1/1 (226/508) /content/YOLOv8-DeepSORT-Object-Tracking/ultralytics/yolo/v8/detect/test3.mp4: 384x640 4 cars, 22.8ms\n",
            "video 1/1 (227/508) /content/YOLOv8-DeepSORT-Object-Tracking/ultralytics/yolo/v8/detect/test3.mp4: 384x640 4 cars, 8.4ms\n",
            "video 1/1 (228/508) /content/YOLOv8-DeepSORT-Object-Tracking/ultralytics/yolo/v8/detect/test3.mp4: 384x640 4 cars, 22.7ms\n",
            "video 1/1 (229/508) /content/YOLOv8-DeepSORT-Object-Tracking/ultralytics/yolo/v8/detect/test3.mp4: 384x640 5 cars, 24.7ms\n",
            "video 1/1 (230/508) /content/YOLOv8-DeepSORT-Object-Tracking/ultralytics/yolo/v8/detect/test3.mp4: 384x640 3 cars, 16.5ms\n",
            "video 1/1 (231/508) /content/YOLOv8-DeepSORT-Object-Tracking/ultralytics/yolo/v8/detect/test3.mp4: 384x640 4 cars, 18.3ms\n",
            "video 1/1 (232/508) /content/YOLOv8-DeepSORT-Object-Tracking/ultralytics/yolo/v8/detect/test3.mp4: 384x640 5 cars, 30.7ms\n",
            "video 1/1 (233/508) /content/YOLOv8-DeepSORT-Object-Tracking/ultralytics/yolo/v8/detect/test3.mp4: 384x640 3 cars, 32.8ms\n",
            "video 1/1 (234/508) /content/YOLOv8-DeepSORT-Object-Tracking/ultralytics/yolo/v8/detect/test3.mp4: 384x640 5 cars, 32.6ms\n",
            "video 1/1 (235/508) /content/YOLOv8-DeepSORT-Object-Tracking/ultralytics/yolo/v8/detect/test3.mp4: 384x640 5 cars, 35.8ms\n",
            "video 1/1 (236/508) /content/YOLOv8-DeepSORT-Object-Tracking/ultralytics/yolo/v8/detect/test3.mp4: 384x640 4 cars, 23.3ms\n",
            "video 1/1 (237/508) /content/YOLOv8-DeepSORT-Object-Tracking/ultralytics/yolo/v8/detect/test3.mp4: 384x640 5 cars, 19.4ms\n",
            "video 1/1 (238/508) /content/YOLOv8-DeepSORT-Object-Tracking/ultralytics/yolo/v8/detect/test3.mp4: 384x640 4 cars, 19.8ms\n",
            "video 1/1 (239/508) /content/YOLOv8-DeepSORT-Object-Tracking/ultralytics/yolo/v8/detect/test3.mp4: 384x640 5 cars, 29.8ms\n",
            "video 1/1 (240/508) /content/YOLOv8-DeepSORT-Object-Tracking/ultralytics/yolo/v8/detect/test3.mp4: 384x640 3 cars, 18.9ms\n",
            "video 1/1 (241/508) /content/YOLOv8-DeepSORT-Object-Tracking/ultralytics/yolo/v8/detect/test3.mp4: 384x640 3 cars, 12.5ms\n",
            "video 1/1 (242/508) /content/YOLOv8-DeepSORT-Object-Tracking/ultralytics/yolo/v8/detect/test3.mp4: 384x640 4 cars, 19.6ms\n",
            "video 1/1 (243/508) /content/YOLOv8-DeepSORT-Object-Tracking/ultralytics/yolo/v8/detect/test3.mp4: 384x640 2 cars, 27.1ms\n",
            "video 1/1 (244/508) /content/YOLOv8-DeepSORT-Object-Tracking/ultralytics/yolo/v8/detect/test3.mp4: 384x640 4 cars, 15.3ms\n",
            "video 1/1 (245/508) /content/YOLOv8-DeepSORT-Object-Tracking/ultralytics/yolo/v8/detect/test3.mp4: 384x640 6 cars, 36.6ms\n",
            "video 1/1 (246/508) /content/YOLOv8-DeepSORT-Object-Tracking/ultralytics/yolo/v8/detect/test3.mp4: 384x640 7 cars, 1 bus, 22.5ms\n",
            "video 1/1 (247/508) /content/YOLOv8-DeepSORT-Object-Tracking/ultralytics/yolo/v8/detect/test3.mp4: 384x640 7 cars, 27.3ms\n",
            "video 1/1 (248/508) /content/YOLOv8-DeepSORT-Object-Tracking/ultralytics/yolo/v8/detect/test3.mp4: 384x640 6 cars, 1 bus, 15.0ms\n",
            "video 1/1 (249/508) /content/YOLOv8-DeepSORT-Object-Tracking/ultralytics/yolo/v8/detect/test3.mp4: 384x640 5 cars, 1 bus, 1 truck, 7.6ms\n",
            "video 1/1 (250/508) /content/YOLOv8-DeepSORT-Object-Tracking/ultralytics/yolo/v8/detect/test3.mp4: 384x640 5 cars, 2 trucks, 18.0ms\n",
            "video 1/1 (251/508) /content/YOLOv8-DeepSORT-Object-Tracking/ultralytics/yolo/v8/detect/test3.mp4: 384x640 5 cars, 2 trucks, 8.3ms\n",
            "video 1/1 (252/508) /content/YOLOv8-DeepSORT-Object-Tracking/ultralytics/yolo/v8/detect/test3.mp4: 384x640 7 cars, 2 trucks, 7.6ms\n",
            "video 1/1 (253/508) /content/YOLOv8-DeepSORT-Object-Tracking/ultralytics/yolo/v8/detect/test3.mp4: 384x640 7 cars, 2 trucks, 7.9ms\n",
            "video 1/1 (254/508) /content/YOLOv8-DeepSORT-Object-Tracking/ultralytics/yolo/v8/detect/test3.mp4: 384x640 4 cars, 2 trucks, 8.5ms\n",
            "video 1/1 (255/508) /content/YOLOv8-DeepSORT-Object-Tracking/ultralytics/yolo/v8/detect/test3.mp4: 384x640 5 cars, 2 trucks, 8.5ms\n",
            "video 1/1 (256/508) /content/YOLOv8-DeepSORT-Object-Tracking/ultralytics/yolo/v8/detect/test3.mp4: 384x640 6 cars, 3 trucks, 8.2ms\n",
            "video 1/1 (257/508) /content/YOLOv8-DeepSORT-Object-Tracking/ultralytics/yolo/v8/detect/test3.mp4: 384x640 5 cars, 2 trucks, 8.4ms\n",
            "video 1/1 (258/508) /content/YOLOv8-DeepSORT-Object-Tracking/ultralytics/yolo/v8/detect/test3.mp4: 384x640 9 cars, 2 trucks, 7.6ms\n",
            "video 1/1 (259/508) /content/YOLOv8-DeepSORT-Object-Tracking/ultralytics/yolo/v8/detect/test3.mp4: 384x640 6 cars, 3 trucks, 17.8ms\n",
            "video 1/1 (260/508) /content/YOLOv8-DeepSORT-Object-Tracking/ultralytics/yolo/v8/detect/test3.mp4: 384x640 7 cars, 1 truck, 15.7ms\n",
            "video 1/1 (261/508) /content/YOLOv8-DeepSORT-Object-Tracking/ultralytics/yolo/v8/detect/test3.mp4: 384x640 5 cars, 2 trucks, 7.6ms\n",
            "video 1/1 (262/508) /content/YOLOv8-DeepSORT-Object-Tracking/ultralytics/yolo/v8/detect/test3.mp4: 384x640 5 cars, 2 trucks, 14.8ms\n",
            "video 1/1 (263/508) /content/YOLOv8-DeepSORT-Object-Tracking/ultralytics/yolo/v8/detect/test3.mp4: 384x640 5 cars, 1 truck, 7.6ms\n",
            "video 1/1 (264/508) /content/YOLOv8-DeepSORT-Object-Tracking/ultralytics/yolo/v8/detect/test3.mp4: 384x640 6 cars, 1 truck, 7.7ms\n",
            "video 1/1 (265/508) /content/YOLOv8-DeepSORT-Object-Tracking/ultralytics/yolo/v8/detect/test3.mp4: 384x640 6 cars, 16.9ms\n",
            "video 1/1 (266/508) /content/YOLOv8-DeepSORT-Object-Tracking/ultralytics/yolo/v8/detect/test3.mp4: 384x640 5 cars, 2 trucks, 10.5ms\n",
            "video 1/1 (267/508) /content/YOLOv8-DeepSORT-Object-Tracking/ultralytics/yolo/v8/detect/test3.mp4: 384x640 6 cars, 1 truck, 17.0ms\n",
            "video 1/1 (268/508) /content/YOLOv8-DeepSORT-Object-Tracking/ultralytics/yolo/v8/detect/test3.mp4: 384x640 7 cars, 8.1ms\n",
            "video 1/1 (269/508) /content/YOLOv8-DeepSORT-Object-Tracking/ultralytics/yolo/v8/detect/test3.mp4: 384x640 7 cars, 1 truck, 7.4ms\n",
            "video 1/1 (270/508) /content/YOLOv8-DeepSORT-Object-Tracking/ultralytics/yolo/v8/detect/test3.mp4: 384x640 6 cars, 1 truck, 8.5ms\n",
            "video 1/1 (271/508) /content/YOLOv8-DeepSORT-Object-Tracking/ultralytics/yolo/v8/detect/test3.mp4: 384x640 7 cars, 1 truck, 9.1ms\n",
            "video 1/1 (272/508) /content/YOLOv8-DeepSORT-Object-Tracking/ultralytics/yolo/v8/detect/test3.mp4: 384x640 8 cars, 1 truck, 7.7ms\n",
            "video 1/1 (273/508) /content/YOLOv8-DeepSORT-Object-Tracking/ultralytics/yolo/v8/detect/test3.mp4: 384x640 6 cars, 1 truck, 8.1ms\n",
            "video 1/1 (274/508) /content/YOLOv8-DeepSORT-Object-Tracking/ultralytics/yolo/v8/detect/test3.mp4: 384x640 6 cars, 2 trucks, 7.9ms\n",
            "video 1/1 (275/508) /content/YOLOv8-DeepSORT-Object-Tracking/ultralytics/yolo/v8/detect/test3.mp4: 384x640 5 cars, 1 truck, 9.7ms\n",
            "video 1/1 (276/508) /content/YOLOv8-DeepSORT-Object-Tracking/ultralytics/yolo/v8/detect/test3.mp4: 384x640 6 cars, 1 truck, 18.6ms\n",
            "video 1/1 (277/508) /content/YOLOv8-DeepSORT-Object-Tracking/ultralytics/yolo/v8/detect/test3.mp4: 384x640 3 cars, 1 truck, 20.5ms\n",
            "video 1/1 (278/508) /content/YOLOv8-DeepSORT-Object-Tracking/ultralytics/yolo/v8/detect/test3.mp4: 384x640 5 cars, 1 truck, 10.7ms\n",
            "video 1/1 (279/508) /content/YOLOv8-DeepSORT-Object-Tracking/ultralytics/yolo/v8/detect/test3.mp4: 384x640 5 cars, 1 truck, 8.1ms\n",
            "video 1/1 (280/508) /content/YOLOv8-DeepSORT-Object-Tracking/ultralytics/yolo/v8/detect/test3.mp4: 384x640 8 cars, 1 truck, 7.6ms\n",
            "video 1/1 (281/508) /content/YOLOv8-DeepSORT-Object-Tracking/ultralytics/yolo/v8/detect/test3.mp4: 384x640 7 cars, 1 truck, 7.7ms\n",
            "video 1/1 (282/508) /content/YOLOv8-DeepSORT-Object-Tracking/ultralytics/yolo/v8/detect/test3.mp4: 384x640 9 cars, 1 truck, 17.7ms\n",
            "video 1/1 (283/508) /content/YOLOv8-DeepSORT-Object-Tracking/ultralytics/yolo/v8/detect/test3.mp4: 384x640 8 cars, 2 trucks, 8.0ms\n",
            "video 1/1 (284/508) /content/YOLOv8-DeepSORT-Object-Tracking/ultralytics/yolo/v8/detect/test3.mp4: 384x640 8 cars, 2 trucks, 16.1ms\n",
            "video 1/1 (285/508) /content/YOLOv8-DeepSORT-Object-Tracking/ultralytics/yolo/v8/detect/test3.mp4: 384x640 8 cars, 2 trucks, 7.9ms\n",
            "video 1/1 (286/508) /content/YOLOv8-DeepSORT-Object-Tracking/ultralytics/yolo/v8/detect/test3.mp4: 384x640 7 cars, 2 trucks, 16.2ms\n",
            "video 1/1 (287/508) /content/YOLOv8-DeepSORT-Object-Tracking/ultralytics/yolo/v8/detect/test3.mp4: 384x640 7 cars, 1 truck, 8.3ms\n",
            "video 1/1 (288/508) /content/YOLOv8-DeepSORT-Object-Tracking/ultralytics/yolo/v8/detect/test3.mp4: 384x640 7 cars, 2 trucks, 7.5ms\n",
            "video 1/1 (289/508) /content/YOLOv8-DeepSORT-Object-Tracking/ultralytics/yolo/v8/detect/test3.mp4: 384x640 6 cars, 2 trucks, 8.4ms\n",
            "video 1/1 (290/508) /content/YOLOv8-DeepSORT-Object-Tracking/ultralytics/yolo/v8/detect/test3.mp4: 384x640 7 cars, 1 truck, 14.7ms\n",
            "video 1/1 (291/508) /content/YOLOv8-DeepSORT-Object-Tracking/ultralytics/yolo/v8/detect/test3.mp4: 384x640 2 persons, 8 cars, 2 trucks, 7.7ms\n",
            "video 1/1 (292/508) /content/YOLOv8-DeepSORT-Object-Tracking/ultralytics/yolo/v8/detect/test3.mp4: 384x640 7 cars, 2 trucks, 14.9ms\n",
            "video 1/1 (293/508) /content/YOLOv8-DeepSORT-Object-Tracking/ultralytics/yolo/v8/detect/test3.mp4: 384x640 6 cars, 3 trucks, 8.1ms\n",
            "video 1/1 (294/508) /content/YOLOv8-DeepSORT-Object-Tracking/ultralytics/yolo/v8/detect/test3.mp4: 384x640 8 cars, 1 truck, 7.7ms\n",
            "video 1/1 (295/508) /content/YOLOv8-DeepSORT-Object-Tracking/ultralytics/yolo/v8/detect/test3.mp4: 384x640 8 cars, 1 truck, 7.8ms\n",
            "video 1/1 (296/508) /content/YOLOv8-DeepSORT-Object-Tracking/ultralytics/yolo/v8/detect/test3.mp4: 384x640 6 cars, 1 truck, 15.9ms\n",
            "video 1/1 (297/508) /content/YOLOv8-DeepSORT-Object-Tracking/ultralytics/yolo/v8/detect/test3.mp4: 384x640 1 person, 6 cars, 2 trucks, 10.2ms\n",
            "video 1/1 (298/508) /content/YOLOv8-DeepSORT-Object-Tracking/ultralytics/yolo/v8/detect/test3.mp4: 384x640 6 cars, 2 trucks, 7.6ms\n",
            "video 1/1 (299/508) /content/YOLOv8-DeepSORT-Object-Tracking/ultralytics/yolo/v8/detect/test3.mp4: 384x640 6 cars, 2 trucks, 7.8ms\n",
            "video 1/1 (300/508) /content/YOLOv8-DeepSORT-Object-Tracking/ultralytics/yolo/v8/detect/test3.mp4: 384x640 7 cars, 1 truck, 15.9ms\n",
            "video 1/1 (301/508) /content/YOLOv8-DeepSORT-Object-Tracking/ultralytics/yolo/v8/detect/test3.mp4: 384x640 9 cars, 1 truck, 14.5ms\n",
            "video 1/1 (302/508) /content/YOLOv8-DeepSORT-Object-Tracking/ultralytics/yolo/v8/detect/test3.mp4: 384x640 9 cars, 2 trucks, 22.8ms\n",
            "video 1/1 (303/508) /content/YOLOv8-DeepSORT-Object-Tracking/ultralytics/yolo/v8/detect/test3.mp4: 384x640 10 cars, 1 truck, 8.6ms\n",
            "video 1/1 (304/508) /content/YOLOv8-DeepSORT-Object-Tracking/ultralytics/yolo/v8/detect/test3.mp4: 384x640 10 cars, 1 truck, 7.8ms\n",
            "video 1/1 (305/508) /content/YOLOv8-DeepSORT-Object-Tracking/ultralytics/yolo/v8/detect/test3.mp4: 384x640 9 cars, 1 truck, 7.7ms\n",
            "video 1/1 (306/508) /content/YOLOv8-DeepSORT-Object-Tracking/ultralytics/yolo/v8/detect/test3.mp4: 384x640 10 cars, 1 truck, 12.4ms\n",
            "video 1/1 (307/508) /content/YOLOv8-DeepSORT-Object-Tracking/ultralytics/yolo/v8/detect/test3.mp4: 384x640 8 cars, 1 truck, 7.8ms\n",
            "video 1/1 (308/508) /content/YOLOv8-DeepSORT-Object-Tracking/ultralytics/yolo/v8/detect/test3.mp4: 384x640 9 cars, 2 trucks, 8.0ms\n",
            "video 1/1 (309/508) /content/YOLOv8-DeepSORT-Object-Tracking/ultralytics/yolo/v8/detect/test3.mp4: 384x640 9 cars, 7.6ms\n",
            "video 1/1 (310/508) /content/YOLOv8-DeepSORT-Object-Tracking/ultralytics/yolo/v8/detect/test3.mp4: 384x640 9 cars, 7.4ms\n",
            "video 1/1 (311/508) /content/YOLOv8-DeepSORT-Object-Tracking/ultralytics/yolo/v8/detect/test3.mp4: 384x640 9 cars, 15.1ms\n",
            "video 1/1 (312/508) /content/YOLOv8-DeepSORT-Object-Tracking/ultralytics/yolo/v8/detect/test3.mp4: 384x640 9 cars, 7.7ms\n",
            "video 1/1 (313/508) /content/YOLOv8-DeepSORT-Object-Tracking/ultralytics/yolo/v8/detect/test3.mp4: 384x640 9 cars, 1 bus, 7.9ms\n",
            "video 1/1 (314/508) /content/YOLOv8-DeepSORT-Object-Tracking/ultralytics/yolo/v8/detect/test3.mp4: 384x640 8 cars, 1 truck, 16.5ms\n",
            "video 1/1 (315/508) /content/YOLOv8-DeepSORT-Object-Tracking/ultralytics/yolo/v8/detect/test3.mp4: 384x640 8 cars, 1 truck, 9.3ms\n",
            "video 1/1 (316/508) /content/YOLOv8-DeepSORT-Object-Tracking/ultralytics/yolo/v8/detect/test3.mp4: 384x640 9 cars, 1 truck, 7.8ms\n",
            "video 1/1 (317/508) /content/YOLOv8-DeepSORT-Object-Tracking/ultralytics/yolo/v8/detect/test3.mp4: 384x640 9 cars, 8.2ms\n",
            "video 1/1 (318/508) /content/YOLOv8-DeepSORT-Object-Tracking/ultralytics/yolo/v8/detect/test3.mp4: 384x640 8 cars, 1 truck, 8.2ms\n",
            "video 1/1 (319/508) /content/YOLOv8-DeepSORT-Object-Tracking/ultralytics/yolo/v8/detect/test3.mp4: 384x640 9 cars, 1 truck, 16.6ms\n",
            "video 1/1 (320/508) /content/YOLOv8-DeepSORT-Object-Tracking/ultralytics/yolo/v8/detect/test3.mp4: 384x640 9 cars, 11.5ms\n",
            "video 1/1 (321/508) /content/YOLOv8-DeepSORT-Object-Tracking/ultralytics/yolo/v8/detect/test3.mp4: 384x640 8 cars, 14.5ms\n",
            "video 1/1 (322/508) /content/YOLOv8-DeepSORT-Object-Tracking/ultralytics/yolo/v8/detect/test3.mp4: 384x640 7 cars, 7.8ms\n",
            "video 1/1 (323/508) /content/YOLOv8-DeepSORT-Object-Tracking/ultralytics/yolo/v8/detect/test3.mp4: 384x640 7 cars, 7.8ms\n",
            "video 1/1 (324/508) /content/YOLOv8-DeepSORT-Object-Tracking/ultralytics/yolo/v8/detect/test3.mp4: 384x640 6 cars, 7.5ms\n",
            "video 1/1 (325/508) /content/YOLOv8-DeepSORT-Object-Tracking/ultralytics/yolo/v8/detect/test3.mp4: 384x640 6 cars, 7.8ms\n",
            "video 1/1 (326/508) /content/YOLOv8-DeepSORT-Object-Tracking/ultralytics/yolo/v8/detect/test3.mp4: 384x640 7 cars, 7.4ms\n",
            "video 1/1 (327/508) /content/YOLOv8-DeepSORT-Object-Tracking/ultralytics/yolo/v8/detect/test3.mp4: 384x640 7 cars, 22.2ms\n",
            "video 1/1 (328/508) /content/YOLOv8-DeepSORT-Object-Tracking/ultralytics/yolo/v8/detect/test3.mp4: 384x640 5 cars, 7.6ms\n",
            "video 1/1 (329/508) /content/YOLOv8-DeepSORT-Object-Tracking/ultralytics/yolo/v8/detect/test3.mp4: 384x640 7 cars, 7.8ms\n",
            "video 1/1 (330/508) /content/YOLOv8-DeepSORT-Object-Tracking/ultralytics/yolo/v8/detect/test3.mp4: 384x640 6 cars, 11.6ms\n",
            "video 1/1 (331/508) /content/YOLOv8-DeepSORT-Object-Tracking/ultralytics/yolo/v8/detect/test3.mp4: 384x640 6 cars, 7.7ms\n",
            "video 1/1 (332/508) /content/YOLOv8-DeepSORT-Object-Tracking/ultralytics/yolo/v8/detect/test3.mp4: 384x640 5 cars, 8.7ms\n",
            "video 1/1 (333/508) /content/YOLOv8-DeepSORT-Object-Tracking/ultralytics/yolo/v8/detect/test3.mp4: 384x640 6 cars, 10.0ms\n",
            "video 1/1 (334/508) /content/YOLOv8-DeepSORT-Object-Tracking/ultralytics/yolo/v8/detect/test3.mp4: 384x640 9 cars, 12.6ms\n",
            "video 1/1 (335/508) /content/YOLOv8-DeepSORT-Object-Tracking/ultralytics/yolo/v8/detect/test3.mp4: 384x640 7 cars, 8.3ms\n",
            "video 1/1 (336/508) /content/YOLOv8-DeepSORT-Object-Tracking/ultralytics/yolo/v8/detect/test3.mp4: 384x640 6 cars, 8.7ms\n",
            "video 1/1 (337/508) /content/YOLOv8-DeepSORT-Object-Tracking/ultralytics/yolo/v8/detect/test3.mp4: 384x640 6 cars, 1 truck, 21.6ms\n",
            "video 1/1 (338/508) /content/YOLOv8-DeepSORT-Object-Tracking/ultralytics/yolo/v8/detect/test3.mp4: 384x640 8 cars, 1 truck, 12.6ms\n",
            "video 1/1 (339/508) /content/YOLOv8-DeepSORT-Object-Tracking/ultralytics/yolo/v8/detect/test3.mp4: 384x640 5 cars, 2 trucks, 13.2ms\n",
            "video 1/1 (340/508) /content/YOLOv8-DeepSORT-Object-Tracking/ultralytics/yolo/v8/detect/test3.mp4: 384x640 5 cars, 1 truck, 25.2ms\n",
            "video 1/1 (341/508) /content/YOLOv8-DeepSORT-Object-Tracking/ultralytics/yolo/v8/detect/test3.mp4: 384x640 5 cars, 1 truck, 7.5ms\n",
            "video 1/1 (342/508) /content/YOLOv8-DeepSORT-Object-Tracking/ultralytics/yolo/v8/detect/test3.mp4: 384x640 5 cars, 2 trucks, 27.6ms\n",
            "video 1/1 (343/508) /content/YOLOv8-DeepSORT-Object-Tracking/ultralytics/yolo/v8/detect/test3.mp4: 384x640 5 cars, 1 truck, 9.9ms\n",
            "video 1/1 (344/508) /content/YOLOv8-DeepSORT-Object-Tracking/ultralytics/yolo/v8/detect/test3.mp4: 384x640 6 cars, 1 truck, 25.5ms\n",
            "video 1/1 (345/508) /content/YOLOv8-DeepSORT-Object-Tracking/ultralytics/yolo/v8/detect/test3.mp4: 384x640 6 cars, 2 trucks, 26.3ms\n",
            "video 1/1 (346/508) /content/YOLOv8-DeepSORT-Object-Tracking/ultralytics/yolo/v8/detect/test3.mp4: 384x640 7 cars, 1 train, 21.1ms\n",
            "video 1/1 (347/508) /content/YOLOv8-DeepSORT-Object-Tracking/ultralytics/yolo/v8/detect/test3.mp4: 384x640 4 cars, 1 truck, 14.2ms\n",
            "video 1/1 (348/508) /content/YOLOv8-DeepSORT-Object-Tracking/ultralytics/yolo/v8/detect/test3.mp4: 384x640 5 cars, 19.5ms\n",
            "video 1/1 (349/508) /content/YOLOv8-DeepSORT-Object-Tracking/ultralytics/yolo/v8/detect/test3.mp4: 384x640 5 cars, 26.3ms\n",
            "video 1/1 (350/508) /content/YOLOv8-DeepSORT-Object-Tracking/ultralytics/yolo/v8/detect/test3.mp4: 384x640 5 cars, 17.4ms\n",
            "video 1/1 (351/508) /content/YOLOv8-DeepSORT-Object-Tracking/ultralytics/yolo/v8/detect/test3.mp4: 384x640 4 cars, 18.3ms\n",
            "video 1/1 (352/508) /content/YOLOv8-DeepSORT-Object-Tracking/ultralytics/yolo/v8/detect/test3.mp4: 384x640 6 cars, 18.7ms\n",
            "video 1/1 (353/508) /content/YOLOv8-DeepSORT-Object-Tracking/ultralytics/yolo/v8/detect/test3.mp4: 384x640 4 cars, 10.6ms\n",
            "video 1/1 (354/508) /content/YOLOv8-DeepSORT-Object-Tracking/ultralytics/yolo/v8/detect/test3.mp4: 384x640 4 cars, 19.1ms\n",
            "video 1/1 (355/508) /content/YOLOv8-DeepSORT-Object-Tracking/ultralytics/yolo/v8/detect/test3.mp4: 384x640 3 cars, 1 truck, 24.5ms\n",
            "video 1/1 (356/508) /content/YOLOv8-DeepSORT-Object-Tracking/ultralytics/yolo/v8/detect/test3.mp4: 384x640 5 cars, 23.3ms\n",
            "video 1/1 (357/508) /content/YOLOv8-DeepSORT-Object-Tracking/ultralytics/yolo/v8/detect/test3.mp4: 384x640 6 cars, 29.9ms\n",
            "video 1/1 (358/508) /content/YOLOv8-DeepSORT-Object-Tracking/ultralytics/yolo/v8/detect/test3.mp4: 384x640 8 cars, 25.6ms\n",
            "video 1/1 (359/508) /content/YOLOv8-DeepSORT-Object-Tracking/ultralytics/yolo/v8/detect/test3.mp4: 384x640 5 cars, 1 truck, 7.6ms\n",
            "video 1/1 (360/508) /content/YOLOv8-DeepSORT-Object-Tracking/ultralytics/yolo/v8/detect/test3.mp4: 384x640 5 cars, 1 truck, 14.5ms\n",
            "video 1/1 (361/508) /content/YOLOv8-DeepSORT-Object-Tracking/ultralytics/yolo/v8/detect/test3.mp4: 384x640 5 cars, 1 truck, 13.3ms\n",
            "video 1/1 (362/508) /content/YOLOv8-DeepSORT-Object-Tracking/ultralytics/yolo/v8/detect/test3.mp4: 384x640 5 cars, 1 truck, 8.0ms\n",
            "video 1/1 (363/508) /content/YOLOv8-DeepSORT-Object-Tracking/ultralytics/yolo/v8/detect/test3.mp4: 384x640 5 cars, 1 truck, 8.1ms\n",
            "video 1/1 (364/508) /content/YOLOv8-DeepSORT-Object-Tracking/ultralytics/yolo/v8/detect/test3.mp4: 384x640 1 person, 6 cars, 1 truck, 8.2ms\n",
            "video 1/1 (365/508) /content/YOLOv8-DeepSORT-Object-Tracking/ultralytics/yolo/v8/detect/test3.mp4: 384x640 5 cars, 1 truck, 19.5ms\n",
            "video 1/1 (366/508) /content/YOLOv8-DeepSORT-Object-Tracking/ultralytics/yolo/v8/detect/test3.mp4: 384x640 1 person, 5 cars, 1 bus, 15.6ms\n",
            "video 1/1 (367/508) /content/YOLOv8-DeepSORT-Object-Tracking/ultralytics/yolo/v8/detect/test3.mp4: 384x640 5 cars, 1 bus, 1 train, 9.0ms\n",
            "video 1/1 (368/508) /content/YOLOv8-DeepSORT-Object-Tracking/ultralytics/yolo/v8/detect/test3.mp4: 384x640 5 cars, 1 bus, 1 train, 8.1ms\n",
            "video 1/1 (369/508) /content/YOLOv8-DeepSORT-Object-Tracking/ultralytics/yolo/v8/detect/test3.mp4: 384x640 5 cars, 1 bus, 1 train, 18.7ms\n",
            "video 1/1 (370/508) /content/YOLOv8-DeepSORT-Object-Tracking/ultralytics/yolo/v8/detect/test3.mp4: 384x640 5 cars, 1 bus, 1 train, 8.2ms\n",
            "video 1/1 (371/508) /content/YOLOv8-DeepSORT-Object-Tracking/ultralytics/yolo/v8/detect/test3.mp4: 384x640 5 cars, 1 bus, 1 train, 20.7ms\n",
            "video 1/1 (372/508) /content/YOLOv8-DeepSORT-Object-Tracking/ultralytics/yolo/v8/detect/test3.mp4: 384x640 5 cars, 1 bus, 1 train, 8.0ms\n",
            "video 1/1 (373/508) /content/YOLOv8-DeepSORT-Object-Tracking/ultralytics/yolo/v8/detect/test3.mp4: 384x640 5 cars, 1 bus, 8.3ms\n",
            "video 1/1 (374/508) /content/YOLOv8-DeepSORT-Object-Tracking/ultralytics/yolo/v8/detect/test3.mp4: 384x640 4 cars, 1 bus, 7.6ms\n",
            "video 1/1 (375/508) /content/YOLOv8-DeepSORT-Object-Tracking/ultralytics/yolo/v8/detect/test3.mp4: 384x640 5 cars, 2 buss, 1 truck, 8.3ms\n",
            "video 1/1 (376/508) /content/YOLOv8-DeepSORT-Object-Tracking/ultralytics/yolo/v8/detect/test3.mp4: 384x640 5 cars, 1 bus, 1 train, 1 truck, 7.8ms\n",
            "video 1/1 (377/508) /content/YOLOv8-DeepSORT-Object-Tracking/ultralytics/yolo/v8/detect/test3.mp4: 384x640 5 cars, 1 bus, 1 train, 7.9ms\n",
            "video 1/1 (378/508) /content/YOLOv8-DeepSORT-Object-Tracking/ultralytics/yolo/v8/detect/test3.mp4: 384x640 6 cars, 1 bus, 1 truck, 8.0ms\n",
            "video 1/1 (379/508) /content/YOLOv8-DeepSORT-Object-Tracking/ultralytics/yolo/v8/detect/test3.mp4: 384x640 7 cars, 1 bus, 7.9ms\n",
            "video 1/1 (380/508) /content/YOLOv8-DeepSORT-Object-Tracking/ultralytics/yolo/v8/detect/test3.mp4: 384x640 5 cars, 1 bus, 1 train, 1 truck, 8.0ms\n",
            "video 1/1 (381/508) /content/YOLOv8-DeepSORT-Object-Tracking/ultralytics/yolo/v8/detect/test3.mp4: 384x640 4 cars, 2 trains, 8.1ms\n",
            "video 1/1 (382/508) /content/YOLOv8-DeepSORT-Object-Tracking/ultralytics/yolo/v8/detect/test3.mp4: 384x640 5 cars, 1 train, 1 truck, 7.5ms\n",
            "video 1/1 (383/508) /content/YOLOv8-DeepSORT-Object-Tracking/ultralytics/yolo/v8/detect/test3.mp4: 384x640 5 cars, 1 train, 8.2ms\n",
            "video 1/1 (384/508) /content/YOLOv8-DeepSORT-Object-Tracking/ultralytics/yolo/v8/detect/test3.mp4: 384x640 7 cars, 3 trucks, 14.9ms\n",
            "video 1/1 (385/508) /content/YOLOv8-DeepSORT-Object-Tracking/ultralytics/yolo/v8/detect/test3.mp4: 384x640 8 cars, 3 trucks, 7.6ms\n",
            "video 1/1 (386/508) /content/YOLOv8-DeepSORT-Object-Tracking/ultralytics/yolo/v8/detect/test3.mp4: 384x640 8 cars, 1 train, 1 truck, 7.7ms\n",
            "video 1/1 (387/508) /content/YOLOv8-DeepSORT-Object-Tracking/ultralytics/yolo/v8/detect/test3.mp4: 384x640 10 cars, 1 truck, 8.1ms\n",
            "video 1/1 (388/508) /content/YOLOv8-DeepSORT-Object-Tracking/ultralytics/yolo/v8/detect/test3.mp4: 384x640 10 cars, 1 truck, 8.8ms\n",
            "video 1/1 (389/508) /content/YOLOv8-DeepSORT-Object-Tracking/ultralytics/yolo/v8/detect/test3.mp4: 384x640 9 cars, 1 truck, 7.9ms\n",
            "video 1/1 (390/508) /content/YOLOv8-DeepSORT-Object-Tracking/ultralytics/yolo/v8/detect/test3.mp4: 384x640 9 cars, 1 truck, 11.3ms\n",
            "video 1/1 (391/508) /content/YOLOv8-DeepSORT-Object-Tracking/ultralytics/yolo/v8/detect/test3.mp4: 384x640 9 cars, 1 truck, 8.2ms\n",
            "video 1/1 (392/508) /content/YOLOv8-DeepSORT-Object-Tracking/ultralytics/yolo/v8/detect/test3.mp4: 384x640 9 cars, 1 truck, 7.7ms\n",
            "video 1/1 (393/508) /content/YOLOv8-DeepSORT-Object-Tracking/ultralytics/yolo/v8/detect/test3.mp4: 384x640 9 cars, 1 truck, 8.6ms\n",
            "video 1/1 (394/508) /content/YOLOv8-DeepSORT-Object-Tracking/ultralytics/yolo/v8/detect/test3.mp4: 384x640 8 cars, 1 truck, 8.1ms\n",
            "video 1/1 (395/508) /content/YOLOv8-DeepSORT-Object-Tracking/ultralytics/yolo/v8/detect/test3.mp4: 384x640 7 cars, 2 trucks, 16.0ms\n",
            "video 1/1 (396/508) /content/YOLOv8-DeepSORT-Object-Tracking/ultralytics/yolo/v8/detect/test3.mp4: 384x640 8 cars, 2 trucks, 8.3ms\n",
            "video 1/1 (397/508) /content/YOLOv8-DeepSORT-Object-Tracking/ultralytics/yolo/v8/detect/test3.mp4: 384x640 9 cars, 2 trucks, 9.3ms\n",
            "video 1/1 (398/508) /content/YOLOv8-DeepSORT-Object-Tracking/ultralytics/yolo/v8/detect/test3.mp4: 384x640 8 cars, 2 trucks, 7.9ms\n",
            "video 1/1 (399/508) /content/YOLOv8-DeepSORT-Object-Tracking/ultralytics/yolo/v8/detect/test3.mp4: 384x640 6 cars, 1 bus, 3 trucks, 7.6ms\n",
            "video 1/1 (400/508) /content/YOLOv8-DeepSORT-Object-Tracking/ultralytics/yolo/v8/detect/test3.mp4: 384x640 6 cars, 2 trucks, 7.5ms\n",
            "video 1/1 (401/508) /content/YOLOv8-DeepSORT-Object-Tracking/ultralytics/yolo/v8/detect/test3.mp4: 384x640 5 cars, 8.8ms\n",
            "video 1/1 (402/508) /content/YOLOv8-DeepSORT-Object-Tracking/ultralytics/yolo/v8/detect/test3.mp4: 384x640 5 cars, 2 trucks, 15.0ms\n",
            "video 1/1 (403/508) /content/YOLOv8-DeepSORT-Object-Tracking/ultralytics/yolo/v8/detect/test3.mp4: 384x640 7 cars, 1 truck, 8.9ms\n",
            "video 1/1 (404/508) /content/YOLOv8-DeepSORT-Object-Tracking/ultralytics/yolo/v8/detect/test3.mp4: 384x640 6 cars, 1 truck, 9.9ms\n",
            "video 1/1 (405/508) /content/YOLOv8-DeepSORT-Object-Tracking/ultralytics/yolo/v8/detect/test3.mp4: 384x640 6 cars, 1 truck, 16.2ms\n",
            "video 1/1 (406/508) /content/YOLOv8-DeepSORT-Object-Tracking/ultralytics/yolo/v8/detect/test3.mp4: 384x640 6 cars, 1 truck, 10.9ms\n",
            "video 1/1 (407/508) /content/YOLOv8-DeepSORT-Object-Tracking/ultralytics/yolo/v8/detect/test3.mp4: 384x640 7 cars, 1 truck, 8.2ms\n",
            "video 1/1 (408/508) /content/YOLOv8-DeepSORT-Object-Tracking/ultralytics/yolo/v8/detect/test3.mp4: 384x640 6 cars, 1 truck, 16.8ms\n",
            "video 1/1 (409/508) /content/YOLOv8-DeepSORT-Object-Tracking/ultralytics/yolo/v8/detect/test3.mp4: 384x640 6 cars, 1 truck, 10.3ms\n",
            "video 1/1 (410/508) /content/YOLOv8-DeepSORT-Object-Tracking/ultralytics/yolo/v8/detect/test3.mp4: 384x640 5 cars, 1 truck, 7.7ms\n",
            "video 1/1 (411/508) /content/YOLOv8-DeepSORT-Object-Tracking/ultralytics/yolo/v8/detect/test3.mp4: 384x640 5 cars, 7.7ms\n",
            "video 1/1 (412/508) /content/YOLOv8-DeepSORT-Object-Tracking/ultralytics/yolo/v8/detect/test3.mp4: 384x640 5 cars, 7.7ms\n",
            "video 1/1 (413/508) /content/YOLOv8-DeepSORT-Object-Tracking/ultralytics/yolo/v8/detect/test3.mp4: 384x640 5 cars, 1 truck, 8.0ms\n",
            "video 1/1 (414/508) /content/YOLOv8-DeepSORT-Object-Tracking/ultralytics/yolo/v8/detect/test3.mp4: 384x640 5 cars, 1 truck, 7.9ms\n",
            "video 1/1 (415/508) /content/YOLOv8-DeepSORT-Object-Tracking/ultralytics/yolo/v8/detect/test3.mp4: 384x640 5 cars, 1 truck, 11.7ms\n",
            "video 1/1 (416/508) /content/YOLOv8-DeepSORT-Object-Tracking/ultralytics/yolo/v8/detect/test3.mp4: 384x640 5 cars, 1 truck, 8.1ms\n",
            "video 1/1 (417/508) /content/YOLOv8-DeepSORT-Object-Tracking/ultralytics/yolo/v8/detect/test3.mp4: 384x640 5 cars, 1 truck, 7.6ms\n",
            "video 1/1 (418/508) /content/YOLOv8-DeepSORT-Object-Tracking/ultralytics/yolo/v8/detect/test3.mp4: 384x640 6 cars, 2 trucks, 17.5ms\n",
            "video 1/1 (419/508) /content/YOLOv8-DeepSORT-Object-Tracking/ultralytics/yolo/v8/detect/test3.mp4: 384x640 4 cars, 2 trucks, 16.2ms\n",
            "video 1/1 (420/508) /content/YOLOv8-DeepSORT-Object-Tracking/ultralytics/yolo/v8/detect/test3.mp4: 384x640 3 cars, 2 trucks, 8.7ms\n",
            "video 1/1 (421/508) /content/YOLOv8-DeepSORT-Object-Tracking/ultralytics/yolo/v8/detect/test3.mp4: 384x640 4 cars, 1 bus, 2 trucks, 23.4ms\n",
            "video 1/1 (422/508) /content/YOLOv8-DeepSORT-Object-Tracking/ultralytics/yolo/v8/detect/test3.mp4: 384x640 3 cars, 1 truck, 15.7ms\n",
            "video 1/1 (423/508) /content/YOLOv8-DeepSORT-Object-Tracking/ultralytics/yolo/v8/detect/test3.mp4: 384x640 4 cars, 7.9ms\n",
            "video 1/1 (424/508) /content/YOLOv8-DeepSORT-Object-Tracking/ultralytics/yolo/v8/detect/test3.mp4: 384x640 4 cars, 1 bus, 1 truck, 17.4ms\n",
            "video 1/1 (425/508) /content/YOLOv8-DeepSORT-Object-Tracking/ultralytics/yolo/v8/detect/test3.mp4: 384x640 4 cars, 1 bus, 1 truck, 12.0ms\n",
            "video 1/1 (426/508) /content/YOLOv8-DeepSORT-Object-Tracking/ultralytics/yolo/v8/detect/test3.mp4: 384x640 4 cars, 1 train, 1 truck, 7.4ms\n",
            "video 1/1 (427/508) /content/YOLOv8-DeepSORT-Object-Tracking/ultralytics/yolo/v8/detect/test3.mp4: 384x640 5 cars, 1 bus, 1 train, 1 truck, 8.1ms\n",
            "video 1/1 (428/508) /content/YOLOv8-DeepSORT-Object-Tracking/ultralytics/yolo/v8/detect/test3.mp4: 384x640 4 cars, 1 train, 1 truck, 21.8ms\n",
            "video 1/1 (429/508) /content/YOLOv8-DeepSORT-Object-Tracking/ultralytics/yolo/v8/detect/test3.mp4: 384x640 4 cars, 1 truck, 15.1ms\n",
            "video 1/1 (430/508) /content/YOLOv8-DeepSORT-Object-Tracking/ultralytics/yolo/v8/detect/test3.mp4: 384x640 4 cars, 1 truck, 7.5ms\n",
            "video 1/1 (431/508) /content/YOLOv8-DeepSORT-Object-Tracking/ultralytics/yolo/v8/detect/test3.mp4: 384x640 4 cars, 1 truck, 7.5ms\n",
            "video 1/1 (432/508) /content/YOLOv8-DeepSORT-Object-Tracking/ultralytics/yolo/v8/detect/test3.mp4: 384x640 4 cars, 1 truck, 13.0ms\n",
            "video 1/1 (433/508) /content/YOLOv8-DeepSORT-Object-Tracking/ultralytics/yolo/v8/detect/test3.mp4: 384x640 4 cars, 1 train, 1 truck, 7.6ms\n",
            "video 1/1 (434/508) /content/YOLOv8-DeepSORT-Object-Tracking/ultralytics/yolo/v8/detect/test3.mp4: 384x640 5 cars, 1 train, 1 truck, 15.7ms\n",
            "video 1/1 (435/508) /content/YOLOv8-DeepSORT-Object-Tracking/ultralytics/yolo/v8/detect/test3.mp4: 384x640 4 cars, 1 train, 8.3ms\n",
            "video 1/1 (436/508) /content/YOLOv8-DeepSORT-Object-Tracking/ultralytics/yolo/v8/detect/test3.mp4: 384x640 4 cars, 1 train, 2 trucks, 7.7ms\n",
            "video 1/1 (437/508) /content/YOLOv8-DeepSORT-Object-Tracking/ultralytics/yolo/v8/detect/test3.mp4: 384x640 4 cars, 1 train, 2 trucks, 7.6ms\n",
            "video 1/1 (438/508) /content/YOLOv8-DeepSORT-Object-Tracking/ultralytics/yolo/v8/detect/test3.mp4: 384x640 4 cars, 1 train, 1 truck, 8.1ms\n",
            "video 1/1 (439/508) /content/YOLOv8-DeepSORT-Object-Tracking/ultralytics/yolo/v8/detect/test3.mp4: 384x640 4 cars, 1 train, 7.3ms\n",
            "video 1/1 (440/508) /content/YOLOv8-DeepSORT-Object-Tracking/ultralytics/yolo/v8/detect/test3.mp4: 384x640 4 cars, 1 train, 1 truck, 8.1ms\n",
            "video 1/1 (441/508) /content/YOLOv8-DeepSORT-Object-Tracking/ultralytics/yolo/v8/detect/test3.mp4: 384x640 4 cars, 1 train, 1 truck, 7.7ms\n",
            "video 1/1 (442/508) /content/YOLOv8-DeepSORT-Object-Tracking/ultralytics/yolo/v8/detect/test3.mp4: 384x640 4 cars, 1 train, 1 truck, 9.3ms\n",
            "video 1/1 (443/508) /content/YOLOv8-DeepSORT-Object-Tracking/ultralytics/yolo/v8/detect/test3.mp4: 384x640 3 cars, 1 train, 1 truck, 27.6ms\n",
            "video 1/1 (444/508) /content/YOLOv8-DeepSORT-Object-Tracking/ultralytics/yolo/v8/detect/test3.mp4: 384x640 3 cars, 1 train, 23.5ms\n",
            "video 1/1 (445/508) /content/YOLOv8-DeepSORT-Object-Tracking/ultralytics/yolo/v8/detect/test3.mp4: 384x640 3 cars, 1 train, 1 truck, 17.0ms\n",
            "video 1/1 (446/508) /content/YOLOv8-DeepSORT-Object-Tracking/ultralytics/yolo/v8/detect/test3.mp4: 384x640 3 cars, 1 train, 13.5ms\n",
            "video 1/1 (447/508) /content/YOLOv8-DeepSORT-Object-Tracking/ultralytics/yolo/v8/detect/test3.mp4: 384x640 2 cars, 1 train, 17.3ms\n",
            "video 1/1 (448/508) /content/YOLOv8-DeepSORT-Object-Tracking/ultralytics/yolo/v8/detect/test3.mp4: 384x640 2 cars, 1 train, 7.9ms\n",
            "video 1/1 (449/508) /content/YOLOv8-DeepSORT-Object-Tracking/ultralytics/yolo/v8/detect/test3.mp4: 384x640 2 cars, 1 train, 1 truck, 7.7ms\n",
            "video 1/1 (450/508) /content/YOLOv8-DeepSORT-Object-Tracking/ultralytics/yolo/v8/detect/test3.mp4: 384x640 2 cars, 1 train, 1 truck, 19.5ms\n",
            "video 1/1 (451/508) /content/YOLOv8-DeepSORT-Object-Tracking/ultralytics/yolo/v8/detect/test3.mp4: 384x640 2 cars, 1 train, 15.1ms\n",
            "video 1/1 (452/508) /content/YOLOv8-DeepSORT-Object-Tracking/ultralytics/yolo/v8/detect/test3.mp4: 384x640 2 cars, 1 train, 14.7ms\n",
            "video 1/1 (453/508) /content/YOLOv8-DeepSORT-Object-Tracking/ultralytics/yolo/v8/detect/test3.mp4: 384x640 2 cars, 1 train, 14.8ms\n",
            "video 1/1 (454/508) /content/YOLOv8-DeepSORT-Object-Tracking/ultralytics/yolo/v8/detect/test3.mp4: 384x640 2 cars, 1 train, 10.4ms\n",
            "video 1/1 (455/508) /content/YOLOv8-DeepSORT-Object-Tracking/ultralytics/yolo/v8/detect/test3.mp4: 384x640 2 cars, 1 train, 14.0ms\n",
            "video 1/1 (456/508) /content/YOLOv8-DeepSORT-Object-Tracking/ultralytics/yolo/v8/detect/test3.mp4: 384x640 2 cars, 1 train, 8.0ms\n",
            "video 1/1 (457/508) /content/YOLOv8-DeepSORT-Object-Tracking/ultralytics/yolo/v8/detect/test3.mp4: 384x640 2 cars, 1 train, 22.9ms\n",
            "video 1/1 (458/508) /content/YOLOv8-DeepSORT-Object-Tracking/ultralytics/yolo/v8/detect/test3.mp4: 384x640 2 cars, 1 train, 1 truck, 12.7ms\n",
            "video 1/1 (459/508) /content/YOLOv8-DeepSORT-Object-Tracking/ultralytics/yolo/v8/detect/test3.mp4: 384x640 2 cars, 1 train, 1 truck, 13.2ms\n",
            "video 1/1 (460/508) /content/YOLOv8-DeepSORT-Object-Tracking/ultralytics/yolo/v8/detect/test3.mp4: 384x640 2 cars, 1 train, 22.5ms\n",
            "video 1/1 (461/508) /content/YOLOv8-DeepSORT-Object-Tracking/ultralytics/yolo/v8/detect/test3.mp4: 384x640 2 cars, 1 train, 15.0ms\n",
            "video 1/1 (462/508) /content/YOLOv8-DeepSORT-Object-Tracking/ultralytics/yolo/v8/detect/test3.mp4: 384x640 2 cars, 1 train, 18.2ms\n",
            "video 1/1 (463/508) /content/YOLOv8-DeepSORT-Object-Tracking/ultralytics/yolo/v8/detect/test3.mp4: 384x640 2 cars, 1 train, 7.8ms\n",
            "video 1/1 (464/508) /content/YOLOv8-DeepSORT-Object-Tracking/ultralytics/yolo/v8/detect/test3.mp4: 384x640 2 cars, 1 train, 21.4ms\n",
            "video 1/1 (465/508) /content/YOLOv8-DeepSORT-Object-Tracking/ultralytics/yolo/v8/detect/test3.mp4: 384x640 2 cars, 1 train, 18.9ms\n",
            "video 1/1 (466/508) /content/YOLOv8-DeepSORT-Object-Tracking/ultralytics/yolo/v8/detect/test3.mp4: 384x640 2 cars, 1 train, 17.0ms\n",
            "video 1/1 (467/508) /content/YOLOv8-DeepSORT-Object-Tracking/ultralytics/yolo/v8/detect/test3.mp4: 384x640 4 cars, 1 train, 1 truck, 24.0ms\n",
            "video 1/1 (468/508) /content/YOLOv8-DeepSORT-Object-Tracking/ultralytics/yolo/v8/detect/test3.mp4: 384x640 2 cars, 1 train, 29.8ms\n",
            "video 1/1 (469/508) /content/YOLOv8-DeepSORT-Object-Tracking/ultralytics/yolo/v8/detect/test3.mp4: 384x640 2 cars, 1 train, 15.9ms\n",
            "video 1/1 (470/508) /content/YOLOv8-DeepSORT-Object-Tracking/ultralytics/yolo/v8/detect/test3.mp4: 384x640 2 cars, 1 train, 1 truck, 14.1ms\n",
            "video 1/1 (471/508) /content/YOLOv8-DeepSORT-Object-Tracking/ultralytics/yolo/v8/detect/test3.mp4: 384x640 2 cars, 1 train, 1 truck, 18.5ms\n",
            "video 1/1 (472/508) /content/YOLOv8-DeepSORT-Object-Tracking/ultralytics/yolo/v8/detect/test3.mp4: 384x640 2 cars, 1 train, 1 truck, 17.2ms\n",
            "video 1/1 (473/508) /content/YOLOv8-DeepSORT-Object-Tracking/ultralytics/yolo/v8/detect/test3.mp4: 384x640 2 cars, 1 train, 1 truck, 22.7ms\n",
            "video 1/1 (474/508) /content/YOLOv8-DeepSORT-Object-Tracking/ultralytics/yolo/v8/detect/test3.mp4: 384x640 2 cars, 1 train, 1 truck, 8.4ms\n",
            "video 1/1 (475/508) /content/YOLOv8-DeepSORT-Object-Tracking/ultralytics/yolo/v8/detect/test3.mp4: 384x640 4 cars, 1 train, 2 trucks, 9.6ms\n",
            "video 1/1 (476/508) /content/YOLOv8-DeepSORT-Object-Tracking/ultralytics/yolo/v8/detect/test3.mp4: 384x640 4 cars, 1 train, 2 trucks, 25.3ms\n",
            "video 1/1 (477/508) /content/YOLOv8-DeepSORT-Object-Tracking/ultralytics/yolo/v8/detect/test3.mp4: 384x640 4 cars, 1 train, 1 truck, 16.5ms\n",
            "video 1/1 (478/508) /content/YOLOv8-DeepSORT-Object-Tracking/ultralytics/yolo/v8/detect/test3.mp4: 384x640 4 cars, 19.1ms\n",
            "video 1/1 (479/508) /content/YOLOv8-DeepSORT-Object-Tracking/ultralytics/yolo/v8/detect/test3.mp4: 384x640 4 cars, 1 train, 1 truck, 31.5ms\n",
            "video 1/1 (480/508) /content/YOLOv8-DeepSORT-Object-Tracking/ultralytics/yolo/v8/detect/test3.mp4: 384x640 1 person, 4 cars, 1 truck, 19.5ms\n",
            "video 1/1 (481/508) /content/YOLOv8-DeepSORT-Object-Tracking/ultralytics/yolo/v8/detect/test3.mp4: 384x640 4 cars, 1 truck, 17.0ms\n",
            "video 1/1 (482/508) /content/YOLOv8-DeepSORT-Object-Tracking/ultralytics/yolo/v8/detect/test3.mp4: 384x640 4 cars, 1 truck, 24.2ms\n",
            "video 1/1 (483/508) /content/YOLOv8-DeepSORT-Object-Tracking/ultralytics/yolo/v8/detect/test3.mp4: 384x640 4 cars, 1 truck, 8.2ms\n",
            "video 1/1 (484/508) /content/YOLOv8-DeepSORT-Object-Tracking/ultralytics/yolo/v8/detect/test3.mp4: 384x640 4 cars, 1 truck, 8.1ms\n",
            "video 1/1 (485/508) /content/YOLOv8-DeepSORT-Object-Tracking/ultralytics/yolo/v8/detect/test3.mp4: 384x640 4 cars, 1 train, 16.9ms\n",
            "video 1/1 (486/508) /content/YOLOv8-DeepSORT-Object-Tracking/ultralytics/yolo/v8/detect/test3.mp4: 384x640 4 cars, 1 train, 1 truck, 14.7ms\n",
            "video 1/1 (487/508) /content/YOLOv8-DeepSORT-Object-Tracking/ultralytics/yolo/v8/detect/test3.mp4: 384x640 4 cars, 1 truck, 17.0ms\n",
            "video 1/1 (488/508) /content/YOLOv8-DeepSORT-Object-Tracking/ultralytics/yolo/v8/detect/test3.mp4: 384x640 4 cars, 1 train, 25.6ms\n",
            "video 1/1 (489/508) /content/YOLOv8-DeepSORT-Object-Tracking/ultralytics/yolo/v8/detect/test3.mp4: 384x640 3 cars, 1 train, 16.7ms\n",
            "video 1/1 (490/508) /content/YOLOv8-DeepSORT-Object-Tracking/ultralytics/yolo/v8/detect/test3.mp4: 384x640 3 cars, 1 train, 14.2ms\n",
            "video 1/1 (491/508) /content/YOLOv8-DeepSORT-Object-Tracking/ultralytics/yolo/v8/detect/test3.mp4: 384x640 3 cars, 1 train, 14.9ms\n",
            "video 1/1 (492/508) /content/YOLOv8-DeepSORT-Object-Tracking/ultralytics/yolo/v8/detect/test3.mp4: 384x640 3 cars, 1 train, 7.8ms\n",
            "video 1/1 (493/508) /content/YOLOv8-DeepSORT-Object-Tracking/ultralytics/yolo/v8/detect/test3.mp4: 384x640 3 cars, 1 train, 7.7ms\n",
            "video 1/1 (494/508) /content/YOLOv8-DeepSORT-Object-Tracking/ultralytics/yolo/v8/detect/test3.mp4: 384x640 3 cars, 2 trains, 1 truck, 7.8ms\n",
            "video 1/1 (495/508) /content/YOLOv8-DeepSORT-Object-Tracking/ultralytics/yolo/v8/detect/test3.mp4: 384x640 3 cars, 2 trains, 1 truck, 12.8ms\n",
            "video 1/1 (496/508) /content/YOLOv8-DeepSORT-Object-Tracking/ultralytics/yolo/v8/detect/test3.mp4: 384x640 3 cars, 2 trains, 9.4ms\n",
            "video 1/1 (497/508) /content/YOLOv8-DeepSORT-Object-Tracking/ultralytics/yolo/v8/detect/test3.mp4: 384x640 3 cars, 2 trains, 7.8ms\n",
            "video 1/1 (498/508) /content/YOLOv8-DeepSORT-Object-Tracking/ultralytics/yolo/v8/detect/test3.mp4: 384x640 4 cars, 1 train, 7.7ms\n",
            "video 1/1 (499/508) /content/YOLOv8-DeepSORT-Object-Tracking/ultralytics/yolo/v8/detect/test3.mp4: 384x640 4 cars, 1 train, 7.8ms\n",
            "video 1/1 (500/508) /content/YOLOv8-DeepSORT-Object-Tracking/ultralytics/yolo/v8/detect/test3.mp4: 384x640 4 cars, 1 bus, 1 train, 10.5ms\n",
            "video 1/1 (501/508) /content/YOLOv8-DeepSORT-Object-Tracking/ultralytics/yolo/v8/detect/test3.mp4: 384x640 4 cars, 1 train, 7.7ms\n",
            "video 1/1 (502/508) /content/YOLOv8-DeepSORT-Object-Tracking/ultralytics/yolo/v8/detect/test3.mp4: 384x640 4 cars, 1 bus, 1 train, 9.7ms\n",
            "video 1/1 (503/508) /content/YOLOv8-DeepSORT-Object-Tracking/ultralytics/yolo/v8/detect/test3.mp4: 384x640 4 cars, 1 train, 8.1ms\n",
            "video 1/1 (504/508) /content/YOLOv8-DeepSORT-Object-Tracking/ultralytics/yolo/v8/detect/test3.mp4: 384x640 4 cars, 1 train, 7.9ms\n",
            "video 1/1 (505/508) /content/YOLOv8-DeepSORT-Object-Tracking/ultralytics/yolo/v8/detect/test3.mp4: 384x640 3 cars, 1 bus, 1 train, 13.9ms\n",
            "video 1/1 (506/508) /content/YOLOv8-DeepSORT-Object-Tracking/ultralytics/yolo/v8/detect/test3.mp4: 384x640 3 cars, 1 train, 8.5ms\n",
            "video 1/1 (507/508) /content/YOLOv8-DeepSORT-Object-Tracking/ultralytics/yolo/v8/detect/test3.mp4: 384x640 2 cars, 1 train, 8.6ms\n",
            "video 1/1 (508/508) /content/YOLOv8-DeepSORT-Object-Tracking/ultralytics/yolo/v8/detect/test3.mp4: 384x640 2 cars, 1 train, 7.3ms\n",
            "Speed: 0.7ms pre-process, 12.6ms inference, 4.8ms postprocess per image at shape (1, 3, 640, 640)\n",
            "Results saved to \u001b[1m/content/YOLOv8-DeepSORT-Object-Tracking/runs/detect/train2\u001b[0m\n"
          ]
        }
      ],
      "source": [
        "!python predict.py source=\"test3.mp4\""
      ]
    }
  ],
  "metadata": {
    "accelerator": "GPU",
    "colab": {
      "provenance": []
    },
    "gpuClass": "standard",
    "kernelspec": {
      "display_name": "Python 3",
      "name": "python3"
    },
    "language_info": {
      "name": "python"
    }
  },
  "nbformat": 4,
  "nbformat_minor": 0
}